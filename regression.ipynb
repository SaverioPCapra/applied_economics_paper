{
 "cells": [
  {
   "cell_type": "code",
   "execution_count": 16,
   "metadata": {},
   "outputs": [],
   "source": [
    "from functions import *\n",
    "import statistics"
   ]
  },
  {
   "cell_type": "code",
   "execution_count": 2,
   "metadata": {},
   "outputs": [],
   "source": [
    "X = pd.read_csv(\"indep_x.csv\", index_col = 0)\n",
    "y = pd.read_csv(\"dep_y.csv\", index_col = 0)"
   ]
  },
  {
   "cell_type": "code",
   "execution_count": 3,
   "metadata": {},
   "outputs": [],
   "source": [
    "first_reg = pd.concat([X, y[\"grade_goal\"]], axis = 1)\n",
    "first_reg = first_reg[first_reg[\"gpa\"]!= 31]"
   ]
  },
  {
   "cell_type": "code",
   "execution_count": 4,
   "metadata": {},
   "outputs": [],
   "source": [
    "progression = [[],[\"age\", \"gender\"],[\"age\", \"gender\", \"scholarship\", \"1st_year\", \"1st_time\"],\n",
    "                                                             [\"age\", \"gender\", \"scholarship\", \"1st_year\", \"1st_time\", \"gpa\", \"expected_grade\"],\n",
    "                                                              [\"age\", \"gender\", \"scholarship\", \"1st_year\", \"1st_time\", \"gpa\", \"taste\", \"importance\", \"expected_grade\"],\n",
    "                                                               [\"age\", \"gender\", \"scholarship\", \"1st_year\", \"1st_time\", \"gpa\", \"taste\", \"importance\", \"knowledge\", \"expected_grade\"] ]"
   ]
  },
  {
   "cell_type": "code",
   "execution_count": 5,
   "metadata": {},
   "outputs": [
    {
     "name": "stdout",
     "output_type": "stream",
     "text": [
      "| Variables      | (1)                  | (2)                  | (3)                  | (4)                  | (5)                  | (6)                  |\n",
      "|:---------------|:---------------------|:---------------------|:---------------------|:---------------------|:---------------------|:---------------------|\n",
      "| treated        | -0.520               | -0.511               | -0.727               | -1.161**             | -1.447***            | -1.462***            |\n",
      "|                | (0.554)              | (0.557)              | (0.577)              | (0.494)              | (0.463)              | (0.475)              |\n",
      "| const          | 25.400***            | 25.983***            | 20.950***            | -1.026               | -4.774               | -4.733               |\n",
      "|                | (0.376)              | (4.440)              | (5.681)              | (5.537)              | (5.456)              | (5.501)              |\n",
      "| age            |                      | -0.039               | 0.108                | 0.250                | 0.221                | 0.222                |\n",
      "|                |                      | (0.225)              | (0.248)              | (0.184)              | (0.183)              | (0.184)              |\n",
      "| gender         |                      | 0.387                | 0.104                | 0.129                | 0.423                | 0.399                |\n",
      "|                |                      | (0.551)              | (0.563)              | (0.503)              | (0.491)              | (0.495)              |\n",
      "| scholarship    |                      |                      | 1.293**              | 0.067                | 0.099                | 0.104                |\n",
      "|                |                      |                      | (0.632)              | (0.717)              | (0.679)              | (0.675)              |\n",
      "| 1st_year       |                      |                      | 2.241                | 2.274                | 1.129                | 1.186                |\n",
      "|                |                      |                      | (1.635)              | (1.567)              | (1.084)              | (1.086)              |\n",
      "| 1st_time       |                      |                      | 0.183                | -0.688               | -0.769               | -0.820               |\n",
      "|                |                      |                      | (2.245)              | (1.646)              | (1.759)              | (1.737)              |\n",
      "| gpa            |                      |                      |                      | 0.457***             | 0.444***             | 0.435***             |\n",
      "|                |                      |                      |                      | (0.126)              | (0.116)              | (0.116)              |\n",
      "| expected_grade |                      |                      |                      | 0.409***             | 0.409***             | 0.418***             |\n",
      "|                |                      |                      |                      | (0.150)              | (0.128)              | (0.132)              |\n",
      "| taste          |                      |                      |                      |                      | 1.184***             | 1.148***             |\n",
      "|                |                      |                      |                      |                      | (0.434)              | (0.442)              |\n",
      "| importance     |                      |                      |                      |                      | 0.479                | 0.480                |\n",
      "|                |                      |                      |                      |                      | (0.467)              | (0.468)              |\n",
      "| knowledge      |                      |                      |                      |                      |                      | 0.281                |\n",
      "|                |                      |                      |                      |                      |                      | (0.477)              |\n",
      "| Observations   | 145.0                | 145.0                | 145.0                | 145.0                | 145.0                | 145.0                |\n",
      "| R-squared      | 0.006170993375180456 | 0.006170993375180456 | 0.006170993375180456 | 0.006170993375180456 | 0.006170993375180456 | 0.006170993375180456 |\n"
     ]
    }
   ],
   "source": [
    "print(create_regression_table(first_reg, \"grade_goal\", [\"treated\"], progression ))"
   ]
  },
  {
   "cell_type": "code",
   "execution_count": 7,
   "metadata": {},
   "outputs": [],
   "source": [
    "rand_inf1_coeff = randomization_inference(first_reg, treatment_col=\"treated\", y_col=\"grade_goal\")"
   ]
  },
  {
   "cell_type": "code",
   "execution_count": 8,
   "metadata": {},
   "outputs": [
    {
     "data": {
      "text/plain": [
       "(-0.8103273154422247, 0.7930854098457416)"
      ]
     },
     "execution_count": 8,
     "metadata": {},
     "output_type": "execute_result"
    }
   ],
   "source": [
    "(rand_inf1_coeff[0],rand_inf1_coeff[1])"
   ]
  },
  {
   "cell_type": "markdown",
   "metadata": {},
   "source": [
    "It seems that our result is robust at the 5% level."
   ]
  },
  {
   "cell_type": "code",
   "execution_count": 17,
   "metadata": {},
   "outputs": [
    {
     "data": {
      "text/plain": [
       "-0.004188164254854619"
      ]
     },
     "execution_count": 17,
     "metadata": {},
     "output_type": "execute_result"
    }
   ],
   "source": [
    "statistics.mean(rand_inf1_coeff[2])"
   ]
  },
  {
   "cell_type": "code",
   "execution_count": 18,
   "metadata": {},
   "outputs": [],
   "source": [
    "second_reg = pd.concat([X, y[\"confidence\"]], axis = 1)\n",
    "second_reg = second_reg[second_reg[\"gpa\"]!= 31]"
   ]
  },
  {
   "cell_type": "code",
   "execution_count": 19,
   "metadata": {},
   "outputs": [
    {
     "name": "stdout",
     "output_type": "stream",
     "text": [
      "| Variables      | (1)                   | (2)                   | (3)                   | (4)                   | (5)                   | (6)                   |\n",
      "|:---------------|:----------------------|:----------------------|:----------------------|:----------------------|:----------------------|:----------------------|\n",
      "| treated        | -0.089                | -0.090                | -0.109                | -0.149                | -0.205                | -0.214                |\n",
      "|                | (0.147)               | (0.149)               | (0.151)               | (0.147)               | (0.149)               | (0.152)               |\n",
      "| const          | 3.529***              | 4.111***              | 3.776***              | 2.127                 | 1.580                 | 1.604                 |\n",
      "|                | (0.084)               | (1.091)               | (1.375)               | (2.242)               | (2.419)               | (2.448)               |\n",
      "| age            |                       | -0.030                | -0.033                | -0.027                | -0.034                | -0.034                |\n",
      "|                |                       | (0.056)               | (0.056)               | (0.059)               | (0.063)               | (0.064)               |\n",
      "| gender         |                       | 0.046                 | 0.047                 | 0.025                 | 0.079                 | 0.065                 |\n",
      "|                |                       | (0.147)               | (0.153)               | (0.159)               | (0.161)               | (0.163)               |\n",
      "| scholarship    |                       |                       | 0.259                 | 0.193                 | 0.150                 | 0.153                 |\n",
      "|                |                       |                       | (0.275)               | (0.297)               | (0.315)               | (0.308)               |\n",
      "| 1st_year       |                       |                       | -0.188                | -0.171                | -0.340                | -0.307                |\n",
      "|                |                       |                       | (0.422)               | (0.401)               | (0.437)               | (0.457)               |\n",
      "| 1st_time       |                       |                       | 0.558                 | 0.567                 | 0.541                 | 0.511                 |\n",
      "|                |                       |                       | (0.686)               | (0.810)               | (0.939)               | (0.952)               |\n",
      "| gpa            |                       |                       |                       | 0.014                 | 0.014                 | 0.009                 |\n",
      "|                |                       |                       |                       | (0.032)               | (0.032)               | (0.034)               |\n",
      "| expected_grade |                       |                       |                       | 0.055                 | 0.055                 | 0.060                 |\n",
      "|                |                       |                       |                       | (0.045)               | (0.047)               | (0.047)               |\n",
      "| taste          |                       |                       |                       |                       | 0.310***              | 0.290**               |\n",
      "|                |                       |                       |                       |                       | (0.114)               | (0.118)               |\n",
      "| importance     |                       |                       |                       |                       | -0.036                | -0.035                |\n",
      "|                |                       |                       |                       |                       | (0.173)               | (0.174)               |\n",
      "| knowledge      |                       |                       |                       |                       |                       | 0.165                 |\n",
      "|                |                       |                       |                       |                       |                       | (0.175)               |\n",
      "| Observations   | 145.0                 | 145.0                 | 145.0                 | 145.0                 | 145.0                 | 145.0                 |\n",
      "| R-squared      | 0.0024870600414076405 | 0.0024870600414076405 | 0.0024870600414076405 | 0.0024870600414076405 | 0.0024870600414076405 | 0.0024870600414076405 |\n"
     ]
    }
   ],
   "source": [
    "print(create_regression_table(second_reg, \"confidence\", [\"treated\"], progression))"
   ]
  },
  {
   "cell_type": "code",
   "execution_count": 21,
   "metadata": {},
   "outputs": [],
   "source": [
    "rand_inf2_coeff = randomization_inference(second_reg, treatment_col=\"treated\", y_col=\"confidence\")"
   ]
  },
  {
   "cell_type": "code",
   "execution_count": 22,
   "metadata": {},
   "outputs": [
    {
     "data": {
      "text/plain": [
       "(-0.2474064030288293, 0.25687994565593697)"
      ]
     },
     "execution_count": 22,
     "metadata": {},
     "output_type": "execute_result"
    }
   ],
   "source": [
    "(rand_inf2_coeff[0],rand_inf2_coeff[1])"
   ]
  },
  {
   "cell_type": "code",
   "execution_count": 23,
   "metadata": {},
   "outputs": [],
   "source": [
    "third_reg = pd.concat([X, y[\"anxiety\"]], axis = 1)\n",
    "third_reg = third_reg[third_reg[\"gpa\"]!= 31]"
   ]
  },
  {
   "cell_type": "code",
   "execution_count": 24,
   "metadata": {},
   "outputs": [
    {
     "name": "stdout",
     "output_type": "stream",
     "text": [
      "| Variables      | (1)                   | (2)                   | (3)                   | (4)                   | (5)                   | (6)                   |\n",
      "|:---------------|:----------------------|:----------------------|:----------------------|:----------------------|:----------------------|:----------------------|\n",
      "| treated        | 0.089                 | 0.094                 | 0.124                 | 0.147                 | 0.129                 | 0.135                 |\n",
      "|                | (0.162)               | (0.159)               | (0.164)               | (0.169)               | (0.163)               | (0.164)               |\n",
      "| const          | 3.271***              | 5.004***              | 5.707***              | 6.421***              | 5.760***              | 5.742***              |\n",
      "|                | (0.125)               | (1.208)               | (1.444)               | (1.647)               | (1.459)               | (1.459)               |\n",
      "| age            |                       | -0.098*               | -0.096                | -0.095                | -0.092                | -0.093                |\n",
      "|                |                       | (0.059)               | (0.062)               | (0.059)               | (0.056)               | (0.056)               |\n",
      "| gender         |                       | 0.422***              | 0.417**               | 0.447**               | 0.474***              | 0.485***              |\n",
      "|                |                       | (0.162)               | (0.169)               | (0.174)               | (0.177)               | (0.178)               |\n",
      "| scholarship    |                       |                       | -0.067                | -0.061                | 0.054                 | 0.052                 |\n",
      "|                |                       |                       | (0.337)               | (0.343)               | (0.344)               | (0.341)               |\n",
      "| 1st_year       |                       |                       | 0.167                 | 0.147                 | -0.050                | -0.074                |\n",
      "|                |                       |                       | (0.382)               | (0.365)               | (0.327)               | (0.335)               |\n",
      "| 1st_time       |                       |                       | -0.915*               | -0.983*               | -0.965***             | -0.943***             |\n",
      "|                |                       |                       | (0.489)               | (0.593)               | (0.288)               | (0.284)               |\n",
      "| gpa            |                       |                       |                       | 0.012                 | 0.005                 | 0.009                 |\n",
      "|                |                       |                       |                       | (0.035)               | (0.036)               | (0.037)               |\n",
      "| expected_grade |                       |                       |                       | -0.045                | -0.045                | -0.049                |\n",
      "|                |                       |                       |                       | (0.041)               | (0.040)               | (0.043)               |\n",
      "| taste          |                       |                       |                       |                       | -0.108                | -0.093                |\n",
      "|                |                       |                       |                       |                       | (0.139)               | (0.140)               |\n",
      "| importance     |                       |                       |                       |                       | 0.329**               | 0.328**               |\n",
      "|                |                       |                       |                       |                       | (0.134)               | (0.133)               |\n",
      "| knowledge      |                       |                       |                       |                       |                       | -0.123                |\n",
      "|                |                       |                       |                       |                       |                       | (0.199)               |\n",
      "| Observations   | 145.0                 | 145.0                 | 145.0                 | 145.0                 | 145.0                 | 145.0                 |\n",
      "| R-squared      | 0.0021291208791208716 | 0.0021291208791208716 | 0.0021291208791208716 | 0.0021291208791208716 | 0.0021291208791208716 | 0.0021291208791208716 |\n"
     ]
    }
   ],
   "source": [
    "print(create_regression_table(third_reg, \"anxiety\", [\"treated\"], progression))"
   ]
  },
  {
   "cell_type": "code",
   "execution_count": 26,
   "metadata": {},
   "outputs": [],
   "source": [
    "rand_inf3_coeff = randomization_inference(third_reg, treatment_col=\"treated\", y_col=\"anxiety\")"
   ]
  },
  {
   "cell_type": "code",
   "execution_count": 27,
   "metadata": {},
   "outputs": [
    {
     "data": {
      "text/plain": [
       "(-0.2658122127115734, 0.2507339630413477)"
      ]
     },
     "execution_count": 27,
     "metadata": {},
     "output_type": "execute_result"
    }
   ],
   "source": [
    "(rand_inf3_coeff[0],rand_inf3_coeff[1])"
   ]
  },
  {
   "cell_type": "code",
   "execution_count": 28,
   "metadata": {},
   "outputs": [],
   "source": [
    "fourth_reg = pd.concat([X, y[\"time\"]], axis = 1)\n",
    "fourth_reg = fourth_reg[fourth_reg[\"gpa\"]!= 31]"
   ]
  },
  {
   "cell_type": "code",
   "execution_count": 29,
   "metadata": {},
   "outputs": [
    {
     "name": "stdout",
     "output_type": "stream",
     "text": [
      "| Variables      | (1)                  | (2)                  | (3)                  | (4)                  | (5)                  | (6)                  |\n",
      "|:---------------|:---------------------|:---------------------|:---------------------|:---------------------|:---------------------|:---------------------|\n",
      "| treated        | 0.317*               | 0.331*               | 0.412**              | 0.505***             | 0.452***             | 0.444**              |\n",
      "|                | (0.183)              | (0.183)              | (0.180)              | (0.175)              | (0.175)              | (0.175)              |\n",
      "| const          | 4.443***             | 3.029*               | 5.114***             | 8.968***             | 8.082***             | 8.104***             |\n",
      "|                | (0.129)              | (1.684)              | (1.885)              | (2.369)              | (2.367)              | (2.346)              |\n",
      "| age            |                      | 0.065                | 0.025                | 0.011                | 0.008                | 0.008                |\n",
      "|                |                      | (0.086)              | (0.083)              | (0.079)              | (0.081)              | (0.080)              |\n",
      "| gender         |                      | 0.249                | 0.320*               | 0.373**              | 0.432**              | 0.419**              |\n",
      "|                |                      | (0.176)              | (0.182)              | (0.183)              | (0.194)              | (0.195)              |\n",
      "| scholarship    |                      |                      | -0.111               | 0.039                | 0.094                | 0.096                |\n",
      "|                |                      |                      | (0.356)              | (0.338)              | (0.362)              | (0.362)              |\n",
      "| 1st_year       |                      |                      | -0.586               | -0.627               | -0.895**             | -0.865**             |\n",
      "|                |                      |                      | (0.589)              | (0.475)              | (0.382)              | (0.374)              |\n",
      "| 1st_time       |                      |                      | -0.819               | -0.850               | -0.855               | -0.883               |\n",
      "|                |                      |                      | (0.731)              | (0.700)              | (0.727)              | (0.748)              |\n",
      "| gpa            |                      |                      |                      | -0.030               | -0.035               | -0.039               |\n",
      "|                |                      |                      |                      | (0.037)              | (0.038)              | (0.037)              |\n",
      "| expected_grade |                      |                      |                      | -0.131**             | -0.132**             | -0.127**             |\n",
      "|                |                      |                      |                      | (0.057)              | (0.052)              | (0.052)              |\n",
      "| taste          |                      |                      |                      |                      | 0.141                | 0.122                |\n",
      "|                |                      |                      |                      |                      | (0.168)              | (0.172)              |\n",
      "| importance     |                      |                      |                      |                      | 0.220                | 0.221                |\n",
      "|                |                      |                      |                      |                      | (0.179)              | (0.180)              |\n",
      "| knowledge      |                      |                      |                      |                      |                      | 0.152                |\n",
      "|                |                      |                      |                      |                      |                      | (0.189)              |\n",
      "| Observations   | 145.0                | 145.0                | 145.0                | 145.0                | 145.0                | 145.0                |\n",
      "| R-squared      | 0.020858068302372357 | 0.020858068302372357 | 0.020858068302372357 | 0.020858068302372357 | 0.020858068302372357 | 0.020858068302372357 |\n"
     ]
    }
   ],
   "source": [
    "print(create_regression_table(fourth_reg, \"time\", [\"treated\"], progression))"
   ]
  },
  {
   "cell_type": "code",
   "execution_count": 31,
   "metadata": {},
   "outputs": [],
   "source": [
    "rand_inf4_coeff = randomization_inference(fourth_reg, treatment_col=\"treated\", y_col=\"time\")"
   ]
  },
  {
   "cell_type": "code",
   "execution_count": 32,
   "metadata": {},
   "outputs": [
    {
     "data": {
      "text/plain": [
       "(-0.3204533040682482, 0.29548335948148025)"
      ]
     },
     "execution_count": 32,
     "metadata": {},
     "output_type": "execute_result"
    }
   ],
   "source": [
    "(rand_inf4_coeff[0],rand_inf4_coeff[1])"
   ]
  },
  {
   "cell_type": "code",
   "execution_count": 33,
   "metadata": {},
   "outputs": [],
   "source": [
    "fifth_reg = pd.concat([X, y[\"exam_date\"]], axis = 1)\n",
    "fifth_reg = fifth_reg[fifth_reg[\"gpa\"]!= 31]\n"
   ]
  },
  {
   "cell_type": "code",
   "execution_count": 34,
   "metadata": {},
   "outputs": [
    {
     "name": "stdout",
     "output_type": "stream",
     "text": [
      "| Variables      | (1)                  | (2)                  | (3)                  | (4)                  | (5)                  | (6)                  |\n",
      "|:---------------|:---------------------|:---------------------|:---------------------|:---------------------|:---------------------|:---------------------|\n",
      "| treated        | -0.092               | -0.087               | -0.060               | -0.076               | -0.046               | -0.043               |\n",
      "|                | (0.068)              | (0.068)              | (0.062)              | (0.070)              | (0.061)              | (0.061)              |\n",
      "| const          | 1.186***             | 0.052                | 0.702                | 0.124                | 0.512                | 0.505                |\n",
      "|                | (0.059)              | (0.666)              | (0.867)              | (0.961)              | (1.075)              | (1.100)              |\n",
      "| age            |                      | 0.056                | 0.039                | 0.039                | 0.042                | 0.042                |\n",
      "|                |                      | (0.035)              | (0.034)              | (0.036)              | (0.035)              | (0.036)              |\n",
      "| gender         |                      | 0.035                | 0.068                | 0.052                | 0.021                | 0.025                |\n",
      "|                |                      | (0.065)              | (0.059)              | (0.062)              | (0.076)              | (0.078)              |\n",
      "| scholarship    |                      |                      | -0.120***            | -0.133***            | -0.133*              | -0.134*              |\n",
      "|                |                      |                      | (0.036)              | (0.051)              | (0.072)              | (0.070)              |\n",
      "| 1st_year       |                      |                      | -0.271               | -0.259               | -0.141               | -0.150               |\n",
      "|                |                      |                      | (0.379)              | (0.365)              | (0.277)              | (0.280)              |\n",
      "| 1st_time       |                      |                      | -0.071               | -0.041               | -0.031               | -0.023               |\n",
      "|                |                      |                      | (0.518)              | (0.491)              | (0.567)              | (0.572)              |\n",
      "| gpa            |                      |                      |                      | -0.003               | -0.001               | -0.000               |\n",
      "|                |                      |                      |                      | (0.017)              | (0.017)              | (0.017)              |\n",
      "| expected_grade |                      |                      |                      | 0.028                | 0.028                | 0.027                |\n",
      "|                |                      |                      |                      | (0.033)              | (0.032)              | (0.033)              |\n",
      "| taste          |                      |                      |                      |                      | -0.133*              | -0.127*              |\n",
      "|                |                      |                      |                      |                      | (0.073)              | (0.076)              |\n",
      "| importance     |                      |                      |                      |                      | -0.042               | -0.042               |\n",
      "|                |                      |                      |                      |                      | (0.112)              | (0.112)              |\n",
      "| knowledge      |                      |                      |                      |                      |                      | -0.046               |\n",
      "|                |                      |                      |                      |                      |                      | (0.062)              |\n",
      "| Observations   | 145.0                | 145.0                | 145.0                | 145.0                | 145.0                | 145.0                |\n",
      "| R-squared      | 0.013295181574113357 | 0.013295181574113357 | 0.013295181574113357 | 0.013295181574113357 | 0.013295181574113357 | 0.013295181574113357 |\n"
     ]
    }
   ],
   "source": [
    "print(create_regression_table(fifth_reg, \"exam_date\", [\"treated\"], progression))"
   ]
  },
  {
   "cell_type": "code",
   "execution_count": 36,
   "metadata": {},
   "outputs": [],
   "source": [
    "rand_inf5_coeff = randomization_inference(fifth_reg, treatment_col=\"treated\", y_col=\"exam_date\")"
   ]
  },
  {
   "cell_type": "code",
   "execution_count": 37,
   "metadata": {},
   "outputs": [
    {
     "data": {
      "text/plain": [
       "(-0.10787912829885193, 0.10919086644528986)"
      ]
     },
     "execution_count": 37,
     "metadata": {},
     "output_type": "execute_result"
    }
   ],
   "source": [
    "(rand_inf5_coeff[0],rand_inf5_coeff[1])"
   ]
  }
 ],
 "metadata": {
  "kernelspec": {
   "display_name": "base",
   "language": "python",
   "name": "python3"
  },
  "language_info": {
   "codemirror_mode": {
    "name": "ipython",
    "version": 3
   },
   "file_extension": ".py",
   "mimetype": "text/x-python",
   "name": "python",
   "nbconvert_exporter": "python",
   "pygments_lexer": "ipython3",
   "version": "3.9.19"
  }
 },
 "nbformat": 4,
 "nbformat_minor": 2
}
