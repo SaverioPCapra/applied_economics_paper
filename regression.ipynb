{
 "cells": [
  {
   "cell_type": "code",
   "execution_count": 1,
   "metadata": {},
   "outputs": [],
   "source": [
    "from functions import *\n",
    "import statistics"
   ]
  },
  {
   "cell_type": "code",
   "execution_count": 2,
   "metadata": {},
   "outputs": [],
   "source": [
    "X = pd.read_csv(\"indep_x.csv\", index_col = 0)\n",
    "y = pd.read_csv(\"dep_y.csv\", index_col = 0)"
   ]
  },
  {
   "cell_type": "code",
   "execution_count": 3,
   "metadata": {},
   "outputs": [],
   "source": [
    "first_reg = pd.concat([X, y[\"grade_goal\"]], axis = 1)\n",
    "#first_reg[first_reg[\"gpa\"]== 31][\"gpa\"] = 17\n",
    "first_reg = first_reg[first_reg[\"gpa\"]!= 31]\n",
    "\n",
    "# note using the observations without gpa and setting their GPA to 17 reduced the coefficient of treated in the first regression to -1.159, still significant, though"
   ]
  },
  {
   "cell_type": "code",
   "execution_count": 4,
   "metadata": {},
   "outputs": [],
   "source": [
    "progression = [[\"taste\"],[\"taste\",\"age\", \"gender\"],[\"taste\",\"age\", \"gender\", \"scholarship\", \"1st_year\", \"1st_time\"],\n",
    "                                                             [\"taste\", \"age\", \"gender\", \"scholarship\", \"1st_year\", \"1st_time\", \"gpa\", \"diff_exp\"],\n",
    "                                                              [\"age\", \"gender\", \"scholarship\", \"1st_year\", \"1st_time\", \"gpa\", \"taste\", \"importance\", \"diff_exp\"],\n",
    "                                                               [\"age\", \"gender\", \"scholarship\", \"1st_year\", \"1st_time\", \"gpa\", \"taste\", \"importance\", \"knowledge\", \"diff_exp\"] ]"
   ]
  },
  {
   "cell_type": "code",
   "execution_count": 7,
   "metadata": {},
   "outputs": [
    {
     "name": "stdout",
     "output_type": "stream",
     "text": [
      "| Variables    | (1)          | (2)          | (3)          | (4)          | (5)          | (6)          |\n",
      "|:-------------|:-------------|:-------------|:-------------|:-------------|:-------------|:-------------|\n",
      "| treated      | -0.963       | -0.981*      | -1.151*      | -1.596***    | -1.606***    | -1.663***    |\n",
      "|              | (0.594)      | (0.586)      | (0.588)      | (0.447)      | (0.441)      | (0.442)      |\n",
      "| taste        | 1.603***     | 1.657***     | 1.512***     | 1.334***     | 1.125***     | 1.084***     |\n",
      "|              | (0.461)      | (0.456)      | (0.464)      | (0.350)      | (0.376)      | (0.380)      |\n",
      "| const        | 20.388***    | 19.984***    | 17.443***    | 2.037        | 1.056        | 1.317        |\n",
      "|              | (1.532)      | (5.406)      | (6.080)      | (5.165)      | (5.138)      | (5.148)      |\n",
      "| age          |              | -0.001       | 0.076        | 0.290        | 0.293        | 0.294        |\n",
      "|              |              | (0.257)      | (0.264)      | (0.200)      | (0.198)      | (0.198)      |\n",
      "| gender       |              | 0.525        | 0.320        | 0.533        | 0.542        | 0.511        |\n",
      "|              |              | (0.585)      | (0.598)      | (0.456)      | (0.451)      | (0.452)      |\n",
      "| scholarship  |              |              | 1.216        | 0.085        | 0.262        | 0.257        |\n",
      "|              |              |              | (1.082)      | (0.836)      | (0.834)      | (0.834)      |\n",
      "| 1st_year     |              |              | 1.540        | 0.887        | 0.753        | 0.812        |\n",
      "|              |              |              | (1.319)      | (0.994)      | (1.000)      | (1.005)      |\n",
      "| 1st_time     |              |              | 0.095        | -0.613       | -0.627       | -0.688       |\n",
      "|              |              |              | (2.036)      | (1.556)      | (1.535)      | (1.537)      |\n",
      "| gpa          |              |              |              | 0.477***     | 0.465***     | 0.455***     |\n",
      "|              |              |              |              | (0.089)      | (0.088)      | (0.089)      |\n",
      "| diff_exp     |              |              |              | 0.484***     | 0.468***     | 0.483***     |\n",
      "|              |              |              |              | (0.089)      | (0.088)      | (0.089)      |\n",
      "| importance   |              |              |              |              | 0.539        | 0.529        |\n",
      "|              |              |              |              |              | (0.360)      | (0.360)      |\n",
      "| knowledge    |              |              |              |              |              | 0.405        |\n",
      "|              |              |              |              |              |              | (0.476)      |\n",
      "| Observations | 145.0        | 145.0        | 145.0        | 145.0        | 145.0        | 145.0        |\n",
      "| R-squared    | N/A (Robust) | N/A (Robust) | N/A (Robust) | N/A (Robust) | N/A (Robust) | N/A (Robust) |\n"
     ]
    }
   ],
   "source": [
    "print(create_regression_table(first_reg, \"grade_goal\", [\"treated\"], progression, robust= \"yes\" ))"
   ]
  },
  {
   "cell_type": "code",
   "execution_count": 8,
   "metadata": {},
   "outputs": [],
   "source": [
    "rand_inf1_coeff = randomization_inference(first_reg, treatment_col=\"treated\", y_col=\"grade_goal\", robust= \"yes\")"
   ]
  },
  {
   "cell_type": "code",
   "execution_count": 9,
   "metadata": {},
   "outputs": [
    {
     "data": {
      "text/plain": [
       "(np.float64(-0.7721386043693031), np.float64(0.7752854824553692))"
      ]
     },
     "execution_count": 9,
     "metadata": {},
     "output_type": "execute_result"
    }
   ],
   "source": [
    "(rand_inf1_coeff[0],rand_inf1_coeff[1])"
   ]
  },
  {
   "cell_type": "markdown",
   "metadata": {},
   "source": [
    "It seems that our result is robust at the 5% level."
   ]
  },
  {
   "cell_type": "code",
   "execution_count": 10,
   "metadata": {},
   "outputs": [
    {
     "data": {
      "text/plain": [
       "np.float64(-0.014893083426362289)"
      ]
     },
     "execution_count": 10,
     "metadata": {},
     "output_type": "execute_result"
    }
   ],
   "source": [
    "statistics.mean(rand_inf1_coeff[2])"
   ]
  },
  {
   "cell_type": "code",
   "execution_count": 11,
   "metadata": {},
   "outputs": [],
   "source": [
    "second_reg = pd.concat([X, y[\"confidence\"]], axis = 1)\n",
    "second_reg = second_reg[second_reg[\"gpa\"]!= 31]\n",
    "#second_reg[second_reg[\"gpa\"]== 31][\"gpa\"] = 17\n"
   ]
  },
  {
   "cell_type": "code",
   "execution_count": 12,
   "metadata": {},
   "outputs": [
    {
     "name": "stdout",
     "output_type": "stream",
     "text": [
      "| Variables    | (1)          | (2)          | (3)          | (4)          | (5)          | (6)          |\n",
      "|:-------------|:-------------|:-------------|:-------------|:-------------|:-------------|:-------------|\n",
      "| treated      | -0.056       | -0.059       | -0.061       | -0.114       | -0.104       | -0.106       |\n",
      "|              | (0.138)      | (0.141)      | (0.143)      | (0.137)      | (0.136)      | (0.137)      |\n",
      "| taste        | 0.272**      | 0.283**      | 0.289**      | 0.266**      | 0.295**      | 0.279**      |\n",
      "|              | (0.107)      | (0.110)      | (0.113)      | (0.107)      | (0.116)      | (0.118)      |\n",
      "| const        | 2.651***     | 3.058**      | 3.121**      | 1.995        | 2.246        | 2.359        |\n",
      "|              | (0.357)      | (1.304)      | (1.478)      | (1.583)      | (1.584)      | (1.592)      |\n",
      "| age          |              | -0.025       | -0.037       | -0.022       | -0.022       | -0.020       |\n",
      "|              |              | (0.062)      | (0.064)      | (0.061)      | (0.061)      | (0.061)      |\n",
      "| gender       |              | 0.096        | 0.120        | 0.085        | 0.076        | 0.067        |\n",
      "|              |              | (0.141)      | (0.145)      | (0.140)      | (0.139)      | (0.140)      |\n",
      "| scholarship  |              |              | 0.206        | 0.111        | 0.081        | 0.092        |\n",
      "|              |              |              | (0.263)      | (0.256)      | (0.257)      | (0.258)      |\n",
      "| 1st_year     |              |              | -0.426       | -0.334       | -0.299       | -0.301       |\n",
      "|              |              |              | (0.321)      | (0.305)      | (0.308)      | (0.311)      |\n",
      "| 1st_time     |              |              | 0.549        | 0.714        | 0.615        | 0.602        |\n",
      "|              |              |              | (0.495)      | (0.477)      | (0.473)      | (0.475)      |\n",
      "| gpa          |              |              |              | 0.019        | 0.022        | 0.017        |\n",
      "|              |              |              |              | (0.027)      | (0.027)      | (0.028)      |\n",
      "| diff_exp     |              |              |              | 0.081***     | 0.082***     | 0.084***     |\n",
      "|              |              |              |              | (0.027)      | (0.027)      | (0.027)      |\n",
      "| importance   |              |              |              |              | -0.091       | -0.090       |\n",
      "|              |              |              |              |              | (0.111)      | (0.111)      |\n",
      "| knowledge    |              |              |              |              |              | 0.102        |\n",
      "|              |              |              |              |              |              | (0.147)      |\n",
      "| Observations | 145.0        | 145.0        | 145.0        | 145.0        | 145.0        | 145.0        |\n",
      "| R-squared    | N/A (Robust) | N/A (Robust) | N/A (Robust) | N/A (Robust) | N/A (Robust) | N/A (Robust) |\n"
     ]
    }
   ],
   "source": [
    "print(create_regression_table(second_reg, \"confidence\", [\"treated\"], progression, robust= \"yes\"))"
   ]
  },
  {
   "cell_type": "code",
   "execution_count": 13,
   "metadata": {},
   "outputs": [],
   "source": [
    "rand_inf2_coeff = randomization_inference(second_reg, treatment_col=\"treated\", y_col=\"confidence\", robust = \"yes\")"
   ]
  },
  {
   "cell_type": "code",
   "execution_count": 14,
   "metadata": {},
   "outputs": [
    {
     "data": {
      "text/plain": [
       "(np.float64(-0.20942240174313567), np.float64(0.21753307353989046))"
      ]
     },
     "execution_count": 14,
     "metadata": {},
     "output_type": "execute_result"
    }
   ],
   "source": [
    "(rand_inf2_coeff[0],rand_inf2_coeff[1])"
   ]
  },
  {
   "cell_type": "code",
   "execution_count": 15,
   "metadata": {},
   "outputs": [],
   "source": [
    "third_reg = pd.concat([X, y[\"anxiety\"]], axis = 1)\n",
    "third_reg = third_reg[third_reg[\"gpa\"]!= 31]\n",
    "#third_reg[third_reg[\"gpa\"]== 31][\"gpa\"] = 17"
   ]
  },
  {
   "cell_type": "code",
   "execution_count": 16,
   "metadata": {},
   "outputs": [
    {
     "name": "stdout",
     "output_type": "stream",
     "text": [
      "| Variables    | (1)          | (2)          | (3)          | (4)          | (5)          | (6)          |\n",
      "|:-------------|:-------------|:-------------|:-------------|:-------------|:-------------|:-------------|\n",
      "| treated      | 0.099        | 0.090        | 0.139        | 0.156        | 0.117        | 0.126        |\n",
      "|              | (0.180)      | (0.171)      | (0.176)      | (0.170)      | (0.162)      | (0.162)      |\n",
      "| taste        | -0.026       | 0.042        | 0.061        | 0.060        | -0.117       | -0.110       |\n",
      "|              | (0.140)      | (0.133)      | (0.139)      | (0.133)      | (0.138)      | (0.140)      |\n",
      "| const        | 3.323***     | 4.741***     | 5.618***     | 5.352***     | 4.619**      | 4.505**      |\n",
      "|              | (0.465)      | (1.578)      | (1.816)      | (1.966)      | (1.889)      | (1.891)      |\n",
      "| age          |              | -0.092       | -0.098       | -0.092       | -0.079       | -0.078       |\n",
      "|              |              | (0.075)      | (0.079)      | (0.076)      | (0.073)      | (0.073)      |\n",
      "| gender       |              | 0.484***     | 0.505***     | 0.532***     | 0.559***     | 0.560***     |\n",
      "|              |              | (0.171)      | (0.179)      | (0.174)      | (0.166)      | (0.166)      |\n",
      "| scholarship  |              |              | -0.199       | -0.206       | -0.062       | -0.044       |\n",
      "|              |              |              | (0.323)      | (0.318)      | (0.307)      | (0.306)      |\n",
      "| 1st_year     |              |              | 0.045        | 0.099        | -0.087       | -0.110       |\n",
      "|              |              |              | (0.394)      | (0.379)      | (0.368)      | (0.369)      |\n",
      "| 1st_time     |              |              | -0.905       | -1.004*      | -0.938*      | -0.921       |\n",
      "|              |              |              | (0.608)      | (0.592)      | (0.565)      | (0.564)      |\n",
      "| gpa          |              |              |              | 0.014        | -0.000       | 0.005        |\n",
      "|              |              |              |              | (0.034)      | (0.032)      | (0.033)      |\n",
      "| diff_exp     |              |              |              | -0.060*      | -0.057*      | -0.066**     |\n",
      "|              |              |              |              | (0.034)      | (0.032)      | (0.033)      |\n",
      "| importance   |              |              |              |              | 0.384***     | 0.386***     |\n",
      "|              |              |              |              |              | (0.132)      | (0.132)      |\n",
      "| knowledge    |              |              |              |              |              | -0.141       |\n",
      "|              |              |              |              |              |              | (0.175)      |\n",
      "| Observations | 145.0        | 145.0        | 145.0        | 145.0        | 145.0        | 145.0        |\n",
      "| R-squared    | N/A (Robust) | N/A (Robust) | N/A (Robust) | N/A (Robust) | N/A (Robust) | N/A (Robust) |\n"
     ]
    }
   ],
   "source": [
    "print(create_regression_table(third_reg, \"anxiety\", [\"treated\"], progression, robust = \"yes\"))"
   ]
  },
  {
   "cell_type": "code",
   "execution_count": 17,
   "metadata": {},
   "outputs": [],
   "source": [
    "rand_inf3_coeff = randomization_inference(third_reg, treatment_col=\"treated\", y_col=\"anxiety\", robust = \"yes\")"
   ]
  },
  {
   "cell_type": "code",
   "execution_count": 18,
   "metadata": {},
   "outputs": [
    {
     "data": {
      "text/plain": [
       "(np.float64(-0.2534723872521931), np.float64(0.269397403974728))"
      ]
     },
     "execution_count": 18,
     "metadata": {},
     "output_type": "execute_result"
    }
   ],
   "source": [
    "(rand_inf3_coeff[0],rand_inf3_coeff[1])"
   ]
  },
  {
   "cell_type": "code",
   "execution_count": 19,
   "metadata": {},
   "outputs": [],
   "source": [
    "fourth_reg = pd.concat([X, y[\"time\"]], axis = 1)\n",
    "fourth_reg = fourth_reg[fourth_reg[\"gpa\"]!= 31]\n",
    "#fourth_reg[third_reg[\"gpa\"]== 31][\"gpa\"] = 17\n"
   ]
  },
  {
   "cell_type": "code",
   "execution_count": 20,
   "metadata": {},
   "outputs": [
    {
     "name": "stdout",
     "output_type": "stream",
     "text": [
      "| Variables    | (1)          | (2)          | (3)          | (4)          | (5)          | (6)          |\n",
      "|:-------------|:-------------|:-------------|:-------------|:-------------|:-------------|:-------------|\n",
      "| treated      | 0.282        | 0.291        | 0.367**      | 0.461***     | 0.452***     | 0.444**      |\n",
      "|              | (0.181)      | (0.182)      | (0.180)      | (0.173)      | (0.175)      | (0.175)      |\n",
      "| taste        | 0.138        | 0.158        | 0.230        | 0.232        | 0.141        | 0.122        |\n",
      "|              | (0.187)      | (0.191)      | (0.191)      | (0.176)      | (0.168)      | (0.172)      |\n",
      "| const        | 4.002***     | 2.468        | 4.618**      | 5.994***     | 5.584**      | 5.694**      |\n",
      "|              | (0.654)      | (1.836)      | (2.033)      | (2.212)      | (2.247)      | (2.227)      |\n",
      "| age          |              | 0.067        | 0.019        | 0.006        | 0.008        | 0.008        |\n",
      "|              |              | (0.090)      | (0.087)      | (0.082)      | (0.081)      | (0.080)      |\n",
      "| gender       |              | 0.268        | 0.364*       | 0.417**      | 0.432**      | 0.419**      |\n",
      "|              |              | (0.185)      | (0.192)      | (0.191)      | (0.194)      | (0.195)      |\n",
      "| scholarship  |              |              | -0.136       | 0.015        | 0.094        | 0.096        |\n",
      "|              |              |              | (0.349)      | (0.336)      | (0.362)      | (0.362)      |\n",
      "| 1st_year     |              |              | -0.733       | -0.775*      | -0.895**     | -0.865**     |\n",
      "|              |              |              | (0.515)      | (0.416)      | (0.382)      | (0.374)      |\n",
      "| 1st_time     |              |              | -0.839       | -0.868       | -0.855       | -0.883       |\n",
      "|              |              |              | (0.683)      | (0.604)      | (0.727)      | (0.748)      |\n",
      "| gpa          |              |              |              | -0.030       | -0.035       | -0.039       |\n",
      "|              |              |              |              | (0.037)      | (0.038)      | (0.037)      |\n",
      "| diff_exp     |              |              |              | -0.131**     | -0.132**     | -0.127**     |\n",
      "|              |              |              |              | (0.055)      | (0.052)      | (0.052)      |\n",
      "| importance   |              |              |              |              | 0.220        | 0.221        |\n",
      "|              |              |              |              |              | (0.179)      | (0.180)      |\n",
      "| knowledge    |              |              |              |              |              | 0.152        |\n",
      "|              |              |              |              |              |              | (0.189)      |\n",
      "| Observations | 145.0        | 145.0        | 145.0        | 145.0        | 145.0        | 145.0        |\n",
      "| R-squared    | N/A (Robust) | N/A (Robust) | N/A (Robust) | N/A (Robust) | N/A (Robust) | N/A (Robust) |\n"
     ]
    }
   ],
   "source": [
    "print(create_regression_table(fourth_reg, \"time\", [\"treated\"], progression))"
   ]
  },
  {
   "cell_type": "code",
   "execution_count": 19,
   "metadata": {},
   "outputs": [],
   "source": [
    "rand_inf4_coeff = randomization_inference(fourth_reg, treatment_col=\"treated\", y_col=\"time\")"
   ]
  },
  {
   "cell_type": "code",
   "execution_count": 20,
   "metadata": {},
   "outputs": [
    {
     "data": {
      "text/plain": [
       "(np.float64(-0.2921611251986981), np.float64(0.2951603199122266))"
      ]
     },
     "execution_count": 20,
     "metadata": {},
     "output_type": "execute_result"
    }
   ],
   "source": [
    "(rand_inf4_coeff[0],rand_inf4_coeff[1])"
   ]
  },
  {
   "cell_type": "code",
   "execution_count": 56,
   "metadata": {},
   "outputs": [],
   "source": [
    "fifth_reg = pd.concat([X, y[\"exam_date\"]], axis = 1)\n",
    "fifth_reg = fifth_reg[fifth_reg[\"gpa\"]!= 31]\n",
    "#fifth_reg[fifth_reg[\"gpa\"]== 31][\"gpa\"] = 17\n"
   ]
  },
  {
   "cell_type": "code",
   "execution_count": 57,
   "metadata": {},
   "outputs": [
    {
     "name": "stdout",
     "output_type": "stream",
     "text": [
      "| Variables      | (1)          | (2)          | (3)          | (4)          | (5)          | (6)          |\n",
      "|:---------------|:-------------|:-------------|:-------------|:-------------|:-------------|:-------------|\n",
      "| treated        | -0.050       | -0.045       | -0.031       | -0.047       | -0.046       | -0.043       |\n",
      "|                | (0.055)      | (0.056)      | (0.057)      | (0.061)      | (0.061)      | (0.061)      |\n",
      "| taste          | -0.169       | -0.167       | -0.150       | -0.150       | -0.133*      | -0.127*      |\n",
      "|                | (0.109)      | (0.112)      | (0.097)      | (0.097)      | (0.073)      | (0.076)      |\n",
      "| const          | 1.727***     | 0.644        | 1.025        | 0.436        | 0.512        | 0.505        |\n",
      "|                | (0.393)      | (0.625)      | (0.938)      | (0.940)      | (1.075)      | (1.100)      |\n",
      "| age            |              | 0.054        | 0.042        | 0.043        | 0.042        | 0.042        |\n",
      "|                |              | (0.033)      | (0.033)      | (0.035)      | (0.035)      | (0.036)      |\n",
      "| gender         |              | 0.015        | 0.040        | 0.024        | 0.021        | 0.025        |\n",
      "|                |              | (0.072)      | (0.063)      | (0.070)      | (0.076)      | (0.078)      |\n",
      "| scholarship    |              |              | -0.104**     | -0.118*      | -0.133*      | -0.134*      |\n",
      "|                |              |              | (0.046)      | (0.062)      | (0.072)      | (0.070)      |\n",
      "| 1st_year       |              |              | -0.175       | -0.164       | -0.141       | -0.150       |\n",
      "|                |              |              | (0.319)      | (0.305)      | (0.277)      | (0.280)      |\n",
      "| 1st_time       |              |              | -0.058       | -0.029       | -0.031       | -0.023       |\n",
      "|                |              |              | (0.518)      | (0.485)      | (0.567)      | (0.572)      |\n",
      "| gpa            |              |              |              | -0.002       | -0.001       | -0.000       |\n",
      "|                |              |              |              | (0.017)      | (0.017)      | (0.017)      |\n",
      "| expected_grade |              |              |              | 0.028        | 0.028        | 0.027        |\n",
      "|                |              |              |              | (0.031)      | (0.032)      | (0.033)      |\n",
      "| importance     |              |              |              |              | -0.042       | -0.042       |\n",
      "|                |              |              |              |              | (0.112)      | (0.112)      |\n",
      "| knowledge      |              |              |              |              |              | -0.046       |\n",
      "|                |              |              |              |              |              | (0.062)      |\n",
      "| Observations   | 145.0        | 145.0        | 145.0        | 145.0        | 145.0        | 145.0        |\n",
      "| R-squared      | N/A (Robust) | N/A (Robust) | N/A (Robust) | N/A (Robust) | N/A (Robust) | N/A (Robust) |\n"
     ]
    }
   ],
   "source": [
    "print(create_regression_table(fifth_reg, \"exam_date\", [\"treated\"], progression))"
   ]
  },
  {
   "cell_type": "code",
   "execution_count": 41,
   "metadata": {},
   "outputs": [],
   "source": [
    "rand_inf5_coeff = randomization_inference(fifth_reg, treatment_col=\"treated\", y_col=\"exam_date\")"
   ]
  },
  {
   "cell_type": "code",
   "execution_count": 42,
   "metadata": {},
   "outputs": [
    {
     "data": {
      "text/plain": [
       "(np.float64(-0.11263465349733945), np.float64(0.10752046473640631))"
      ]
     },
     "execution_count": 42,
     "metadata": {},
     "output_type": "execute_result"
    }
   ],
   "source": [
    "(rand_inf5_coeff[0],rand_inf5_coeff[1])"
   ]
  }
 ],
 "metadata": {
  "kernelspec": {
   "display_name": "base",
   "language": "python",
   "name": "python3"
  },
  "language_info": {
   "codemirror_mode": {
    "name": "ipython",
    "version": 3
   },
   "file_extension": ".py",
   "mimetype": "text/x-python",
   "name": "python",
   "nbconvert_exporter": "python",
   "pygments_lexer": "ipython3",
   "version": "3.9.19"
  }
 },
 "nbformat": 4,
 "nbformat_minor": 2
}
