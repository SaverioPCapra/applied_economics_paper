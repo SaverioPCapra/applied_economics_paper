{
 "cells": [
  {
   "cell_type": "code",
   "execution_count": 1,
   "metadata": {},
   "outputs": [],
   "source": [
    "from functions import *\n",
    "import statistics"
   ]
  },
  {
   "cell_type": "code",
   "execution_count": 2,
   "metadata": {},
   "outputs": [],
   "source": [
    "X = pd.read_csv(\"indep_x.csv\", index_col = 0)\n",
    "y = pd.read_csv(\"dep_y.csv\", index_col = 0)"
   ]
  },
  {
   "cell_type": "code",
   "execution_count": 3,
   "metadata": {},
   "outputs": [],
   "source": [
    "first_reg = pd.concat([X, y[\"grade_goal\"]], axis = 1)\n",
    "first_reg = first_reg[first_reg[\"gpa\"]!= 17]\n",
    "\n",
    "# note using the observations without gpa and setting their GPA to 17 reduced the coefficient of treated in the first regression to -1.159, still significant, though"
   ]
  },
  {
   "cell_type": "code",
   "execution_count": 4,
   "metadata": {},
   "outputs": [
    {
     "data": {
      "text/plain": [
       "Index(['age', 'gender', 'scholarship', '1st_year', 'gpa', '1st_time', 'taste',\n",
       "       'importance', 'expected_grade', 'knowledge', 'treated'],\n",
       "      dtype='object')"
      ]
     },
     "execution_count": 4,
     "metadata": {},
     "output_type": "execute_result"
    }
   ],
   "source": [
    "X.columns"
   ]
  },
  {
   "cell_type": "code",
   "execution_count": 5,
   "metadata": {},
   "outputs": [],
   "source": [
    "progression = [\n",
    "    [\"taste\"],\n",
    "    [\"taste\", \"age\", \"gender\"],\n",
    "    [\"taste\", \"age\", \"gender\", \"scholarship\", \"1st_year\", \"1st_time\"],\n",
    "    [\"taste\", \"age\", \"gender\", \"scholarship\", \"1st_year\", \"1st_time\", \"gpa\", \"importance\"],\n",
    "    [\"taste\", \"age\", \"gender\", \"scholarship\", \"1st_year\", \"1st_time\", \"gpa\", \"importance\", \"expected_grade\", \"knowledge\"]\n",
    "]"
   ]
  },
  {
   "cell_type": "code",
   "execution_count": 7,
   "metadata": {},
   "outputs": [],
   "source": [
    "model = sm.OLS(first_reg[\"grade_goal\"], sm.add_constant(first_reg.drop([\"grade_goal\"], axis =1))).fit(cov = \"HC3\")"
   ]
  },
  {
   "cell_type": "code",
   "execution_count": 60,
   "metadata": {},
   "outputs": [
    {
     "name": "stdout",
     "output_type": "stream",
     "text": [
      "\\begin{tabular}{llllll}\n",
      "\\hline\n",
      " Variables      & (1)          & (2)          & (3)          & (4)          & (5)          \\\\\n",
      "\\hline\n",
      " treated        & -0.899*\n",
      "(0.541)              & -0.892\n",
      "(0.547)              & -1.000*\n",
      "(0.568)              & -1.222**\n",
      "(0.496)              & -1.462***\n",
      "(0.475)              \\\\\n",
      " taste          & 1.497***\n",
      "(0.482)              & 1.538***\n",
      "(0.474)              & 1.404***\n",
      "(0.477)              & 1.175***\n",
      "(0.447)              & 1.148***\n",
      "(0.442)              \\\\\n",
      " const          & 20.611***\n",
      "(1.619)              & 20.537***\n",
      "(4.660)              & 17.928***\n",
      "(5.403)              & 2.473\n",
      "(5.391)              & -4.733\n",
      "(5.501)              \\\\\n",
      " age            &              & -0.017\n",
      "(0.221)              & 0.074\n",
      "(0.239)              & 0.228\n",
      "(0.192)              & 0.222\n",
      "(0.184)              \\\\\n",
      " gender         &              & 0.575\n",
      "(0.532)              & 0.373\n",
      "(0.550)              & 0.679\n",
      "(0.518)              & 0.399\n",
      "(0.495)              \\\\\n",
      " scholarship    &              &              & 1.143*\n",
      "(0.680)              & 0.208\n",
      "(0.698)              & 0.104\n",
      "(0.675)              \\\\\n",
      " 1st\\_year       &              &              & 1.342\n",
      "(1.500)              & 0.952\n",
      "(1.198)              & 1.186\n",
      "(1.086)              \\\\\n",
      " 1st\\_time       &              &              & 0.057\n",
      "(2.086)              & -1.325\n",
      "(2.011)              & -0.820\n",
      "(1.737)              \\\\\n",
      " gpa            &              &              &              & 0.525***\n",
      "(0.122)              & 0.435***\n",
      "(0.116)              \\\\\n",
      " importance     &              &              &              & 0.489\n",
      "(0.460)              & 0.480\n",
      "(0.468)              \\\\\n",
      " expected\\_grade &              &              &              &              & 0.418***\n",
      "(0.132)              \\\\\n",
      " knowledge      &              &              &              &              & 0.281\n",
      "(0.477)              \\\\\n",
      " Observations   & 145.0        & 145.0        & 145.0        & 145.0        & 145.0        \\\\\n",
      " R-squared      & N/A (Robust) & N/A (Robust) & N/A (Robust) & N/A (Robust) & N/A (Robust) \\\\\n",
      "\\hline\n",
      "\\end{tabular}\n"
     ]
    }
   ],
   "source": [
    "print(create_regression_table(first_reg, \"grade_goal\", [\"treated\"], progression))"
   ]
  },
  {
   "cell_type": "code",
   "execution_count": 61,
   "metadata": {},
   "outputs": [],
   "source": [
    "rand_inf1_coeff = randomization_inference(first_reg, treatment_col=\"treated\", y_col=\"grade_goal\", robust= \"no\")"
   ]
  },
  {
   "cell_type": "code",
   "execution_count": 62,
   "metadata": {},
   "outputs": [
    {
     "data": {
      "text/plain": [
       "(-0.7872717172637698, 0.7937867089502365)"
      ]
     },
     "execution_count": 62,
     "metadata": {},
     "output_type": "execute_result"
    }
   ],
   "source": [
    "(rand_inf1_coeff[0],rand_inf1_coeff[1])"
   ]
  },
  {
   "cell_type": "markdown",
   "metadata": {},
   "source": [
    "It seems that our result is robust at the 5% level."
   ]
  },
  {
   "cell_type": "code",
   "execution_count": 63,
   "metadata": {},
   "outputs": [
    {
     "data": {
      "text/plain": [
       "0.010242748482216768"
      ]
     },
     "execution_count": 63,
     "metadata": {},
     "output_type": "execute_result"
    }
   ],
   "source": [
    "statistics.mean(rand_inf1_coeff[2])"
   ]
  },
  {
   "cell_type": "code",
   "execution_count": 64,
   "metadata": {},
   "outputs": [],
   "source": [
    "second_reg = pd.concat([X, y[\"confidence\"]], axis = 1)\n",
    "second_reg = second_reg[second_reg[\"gpa\"]!= 17]\n",
    "\n"
   ]
  },
  {
   "cell_type": "code",
   "execution_count": 65,
   "metadata": {},
   "outputs": [
    {
     "name": "stdout",
     "output_type": "stream",
     "text": [
      "\\begin{tabular}{llllll}\n",
      "\\hline\n",
      " Variables      & (1)          & (2)          & (3)          & (4)          & (5)          \\\\\n",
      "\\hline\n",
      " treated        & -0.157\n",
      "(0.145)              & -0.158\n",
      "(0.146)              & -0.167\n",
      "(0.148)              & -0.174\n",
      "(0.149)              & -0.214\n",
      "(0.152)              \\\\\n",
      " taste          & 0.271**\n",
      "(0.133)              & 0.276**\n",
      "(0.138)              & 0.296**\n",
      "(0.128)              & 0.309***\n",
      "(0.119)              & 0.290**\n",
      "(0.118)              \\\\\n",
      " const          & 2.662***\n",
      "(0.454)              & 3.134***\n",
      "(1.182)              & 3.139**\n",
      "(1.552)              & 2.555\n",
      "(1.923)              & 1.604\n",
      "(2.448)              \\\\\n",
      " age            &              & -0.027\n",
      "(0.060)              & -0.040\n",
      "(0.059)              & -0.033\n",
      "(0.061)              & -0.034\n",
      "(0.064)              \\\\\n",
      " gender         &              & 0.080\n",
      "(0.147)              & 0.103\n",
      "(0.150)              & 0.113\n",
      "(0.155)              & 0.065\n",
      "(0.163)              \\\\\n",
      " scholarship    &              &              & 0.227\n",
      "(0.294)              & 0.165\n",
      "(0.310)              & 0.153\n",
      "(0.308)              \\\\\n",
      " 1st\\_year       &              &              & -0.377\n",
      "(0.454)              & -0.364\n",
      "(0.450)              & -0.307\n",
      "(0.457)              \\\\\n",
      " 1st\\_time       &              &              & 0.531\n",
      "(0.755)              & 0.466\n",
      "(0.791)              & 0.511\n",
      "(0.952)              \\\\\n",
      " gpa            &              &              &              & 0.024\n",
      "(0.032)              & 0.009\n",
      "(0.034)              \\\\\n",
      " importance     &              &              &              & -0.035\n",
      "(0.166)              & -0.035\n",
      "(0.174)              \\\\\n",
      " expected\\_grade &              &              &              &              & 0.060\n",
      "(0.047)              \\\\\n",
      " knowledge      &              &              &              &              & 0.165\n",
      "(0.175)              \\\\\n",
      " Observations   & 145.0        & 145.0        & 145.0        & 145.0        & 145.0        \\\\\n",
      " R-squared      & N/A (Robust) & N/A (Robust) & N/A (Robust) & N/A (Robust) & N/A (Robust) \\\\\n",
      "\\hline\n",
      "\\end{tabular}\n"
     ]
    }
   ],
   "source": [
    "print(create_regression_table(second_reg, \"confidence\", [\"treated\"], progression, robust= \"no\"))"
   ]
  },
  {
   "cell_type": "code",
   "execution_count": 66,
   "metadata": {},
   "outputs": [],
   "source": [
    "rand_inf2_coeff = randomization_inference(second_reg, treatment_col=\"treated\", y_col=\"confidence\")"
   ]
  },
  {
   "cell_type": "code",
   "execution_count": 67,
   "metadata": {},
   "outputs": [
    {
     "data": {
      "text/plain": [
       "(-0.25461370011913614, 0.27613358656708104)"
      ]
     },
     "execution_count": 67,
     "metadata": {},
     "output_type": "execute_result"
    }
   ],
   "source": [
    "(rand_inf2_coeff[0],rand_inf2_coeff[1])"
   ]
  },
  {
   "cell_type": "code",
   "execution_count": 68,
   "metadata": {},
   "outputs": [],
   "source": [
    "third_reg = pd.concat([X, y[\"anxiety\"]], axis = 1)\n",
    "third_reg = third_reg[third_reg[\"gpa\"]!= 17]"
   ]
  },
  {
   "cell_type": "code",
   "execution_count": 69,
   "metadata": {},
   "outputs": [
    {
     "name": "stdout",
     "output_type": "stream",
     "text": [
      "\\begin{tabular}{llllll}\n",
      "\\hline\n",
      " Variables      & (1)          & (2)          & (3)          & (4)          & (5)          \\\\\n",
      "\\hline\n",
      " treated        & 0.089\n",
      "(0.163)              & 0.087\n",
      "(0.160)              & 0.118\n",
      "(0.165)              & 0.104\n",
      "(0.164)              & 0.135\n",
      "(0.164)              \\\\\n",
      " taste          & -0.001\n",
      "(0.145)              & 0.029\n",
      "(0.138)              & 0.028\n",
      "(0.137)              & -0.107\n",
      "(0.141)              & -0.093\n",
      "(0.140)              \\\\\n",
      " const          & 3.274***\n",
      "(0.496)              & 4.903***\n",
      "(1.306)              & 5.646***\n",
      "(1.511)              & 4.962***\n",
      "(1.422)              & 5.742***\n",
      "(1.459)              \\\\\n",
      " age            &              & -0.097\n",
      "(0.060)              & -0.097\n",
      "(0.062)              & -0.093\n",
      "(0.058)              & -0.093\n",
      "(0.056)              \\\\\n",
      " gender         &              & 0.425**\n",
      "(0.168)              & 0.423**\n",
      "(0.177)              & 0.446**\n",
      "(0.176)              & 0.485***\n",
      "(0.178)              \\\\\n",
      " scholarship    &              &              & -0.070\n",
      "(0.340)              & 0.042\n",
      "(0.344)              & 0.052\n",
      "(0.341)              \\\\\n",
      " 1st\\_year       &              &              & 0.149\n",
      "(0.382)              & -0.030\n",
      "(0.346)              & -0.074\n",
      "(0.335)              \\\\\n",
      " 1st\\_time       &              &              & -0.918*\n",
      "(0.484)              & -0.904***\n",
      "(0.265)              & -0.943***\n",
      "(0.284)              \\\\\n",
      " gpa            &              &              &              & -0.004\n",
      "(0.035)              & 0.009\n",
      "(0.037)              \\\\\n",
      " importance     &              &              &              & 0.328**\n",
      "(0.139)              & 0.328**\n",
      "(0.133)              \\\\\n",
      " expected\\_grade &              &              &              &              & -0.049\n",
      "(0.043)              \\\\\n",
      " knowledge      &              &              &              &              & -0.123\n",
      "(0.199)              \\\\\n",
      " Observations   & 145.0        & 145.0        & 145.0        & 145.0        & 145.0        \\\\\n",
      " R-squared      & N/A (Robust) & N/A (Robust) & N/A (Robust) & N/A (Robust) & N/A (Robust) \\\\\n",
      "\\hline\n",
      "\\end{tabular}\n"
     ]
    }
   ],
   "source": [
    "print(create_regression_table(third_reg, \"anxiety\", [\"treated\"], progression, robust = \"no\"))"
   ]
  },
  {
   "cell_type": "code",
   "execution_count": 70,
   "metadata": {},
   "outputs": [],
   "source": [
    "rand_inf3_coeff = randomization_inference(third_reg, treatment_col=\"treated\", y_col=\"anxiety\")"
   ]
  },
  {
   "cell_type": "code",
   "execution_count": 71,
   "metadata": {},
   "outputs": [
    {
     "data": {
      "text/plain": [
       "(-0.25318757699452454, 0.2547702824972652)"
      ]
     },
     "execution_count": 71,
     "metadata": {},
     "output_type": "execute_result"
    }
   ],
   "source": [
    "(rand_inf3_coeff[0],rand_inf3_coeff[1])"
   ]
  },
  {
   "cell_type": "code",
   "execution_count": 72,
   "metadata": {},
   "outputs": [],
   "source": [
    "fourth_reg = pd.concat([X, y[\"time\"]], axis = 1)\n",
    "fourth_reg = fourth_reg[fourth_reg[\"gpa\"]!= 17]"
   ]
  },
  {
   "cell_type": "code",
   "execution_count": 73,
   "metadata": {},
   "outputs": [
    {
     "name": "stdout",
     "output_type": "stream",
     "text": [
      "\\begin{tabular}{llllll}\n",
      "\\hline\n",
      " Variables      & (1)          & (2)          & (3)          & (4)          & (5)          \\\\\n",
      "\\hline\n",
      " treated        & 0.282\n",
      "(0.181)              & 0.291\n",
      "(0.182)              & 0.367**\n",
      "(0.180)              & 0.380**\n",
      "(0.181)              & 0.444**\n",
      "(0.175)              \\\\\n",
      " taste          & 0.138\n",
      "(0.187)              & 0.158\n",
      "(0.191)              & 0.230\n",
      "(0.191)              & 0.144\n",
      "(0.170)              & 0.122\n",
      "(0.172)              \\\\\n",
      " const          & 4.002***\n",
      "(0.654)              & 2.468\n",
      "(1.836)              & 4.618**\n",
      "(2.033)              & 5.752**\n",
      "(2.530)              & 8.104***\n",
      "(2.346)              \\\\\n",
      " age            &              & 0.067\n",
      "(0.090)              & 0.019\n",
      "(0.087)              & 0.005\n",
      "(0.085)              & 0.008\n",
      "(0.080)              \\\\\n",
      " gender         &              & 0.268\n",
      "(0.185)              & 0.364*\n",
      "(0.192)              & 0.350*\n",
      "(0.197)              & 0.419**\n",
      "(0.195)              \\\\\n",
      " scholarship    &              &              & -0.136\n",
      "(0.349)              & 0.059\n",
      "(0.380)              & 0.096\n",
      "(0.362)              \\\\\n",
      " 1st\\_year       &              &              & -0.733\n",
      "(0.515)              & -0.838*\n",
      "(0.468)              & -0.865**\n",
      "(0.374)              \\\\\n",
      " 1st\\_time       &              &              & -0.839\n",
      "(0.683)              & -0.676\n",
      "(0.938)              & -0.883\n",
      "(0.748)              \\\\\n",
      " gpa            &              &              &              & -0.061\n",
      "(0.040)              & -0.039\n",
      "(0.037)              \\\\\n",
      " importance     &              &              &              & 0.217\n",
      "(0.207)              & 0.221\n",
      "(0.180)              \\\\\n",
      " expected\\_grade &              &              &              &              & -0.127**\n",
      "(0.052)              \\\\\n",
      " knowledge      &              &              &              &              & 0.152\n",
      "(0.189)              \\\\\n",
      " Observations   & 145.0        & 145.0        & 145.0        & 145.0        & 145.0        \\\\\n",
      " R-squared      & N/A (Robust) & N/A (Robust) & N/A (Robust) & N/A (Robust) & N/A (Robust) \\\\\n",
      "\\hline\n",
      "\\end{tabular}\n"
     ]
    }
   ],
   "source": [
    "print(create_regression_table(fourth_reg, \"time\", [\"treated\"], progression))"
   ]
  },
  {
   "cell_type": "code",
   "execution_count": 74,
   "metadata": {},
   "outputs": [],
   "source": [
    "rand_inf4_coeff = randomization_inference(fourth_reg, treatment_col=\"treated\", y_col=\"time\")"
   ]
  },
  {
   "cell_type": "code",
   "execution_count": 75,
   "metadata": {},
   "outputs": [
    {
     "data": {
      "text/plain": [
       "(-0.3025775119917994, 0.2918436415354852)"
      ]
     },
     "execution_count": 75,
     "metadata": {},
     "output_type": "execute_result"
    }
   ],
   "source": [
    "(rand_inf4_coeff[0],rand_inf4_coeff[1])"
   ]
  },
  {
   "cell_type": "code",
   "execution_count": 76,
   "metadata": {},
   "outputs": [],
   "source": [
    "fifth_reg = pd.concat([X, y[\"exam_date\"]], axis = 1)\n",
    "fifth_reg = fifth_reg[fifth_reg[\"gpa\"]!= 17]\n"
   ]
  },
  {
   "cell_type": "code",
   "execution_count": 77,
   "metadata": {},
   "outputs": [
    {
     "name": "stdout",
     "output_type": "stream",
     "text": [
      "\\begin{tabular}{llllll}\n",
      "\\hline\n",
      " Variables      & (1)          & (2)          & (3)          & (4)          & (5)          \\\\\n",
      "\\hline\n",
      " treated        & -0.050\n",
      "(0.055)              & -0.045\n",
      "(0.056)              & -0.031\n",
      "(0.057)              & -0.030\n",
      "(0.059)              & -0.043\n",
      "(0.061)              \\\\\n",
      " taste          & -0.169\n",
      "(0.109)              & -0.167\n",
      "(0.112)              & -0.150\n",
      "(0.097)              & -0.133*\n",
      "(0.074)              & -0.127*\n",
      "(0.076)              \\\\\n",
      " const          & 1.727***\n",
      "(0.393)              & 0.644\n",
      "(0.625)              & 1.025\n",
      "(0.938)              & 1.010\n",
      "(1.205)              & 0.505\n",
      "(1.100)              \\\\\n",
      " age            &              & 0.054\n",
      "(0.033)              & 0.042\n",
      "(0.033)              & 0.043\n",
      "(0.034)              & 0.042\n",
      "(0.036)              \\\\\n",
      " gender         &              & 0.015\n",
      "(0.072)              & 0.040\n",
      "(0.063)              & 0.039\n",
      "(0.066)              & 0.025\n",
      "(0.078)              \\\\\n",
      " scholarship    &              &              & -0.104**\n",
      "(0.046)              & -0.126**\n",
      "(0.064)              & -0.134*\n",
      "(0.070)              \\\\\n",
      " 1st\\_year       &              &              & -0.175\n",
      "(0.319)              & -0.153\n",
      "(0.291)              & -0.150\n",
      "(0.280)              \\\\\n",
      " 1st\\_time       &              &              & -0.058\n",
      "(0.518)              & -0.069\n",
      "(0.604)              & -0.023\n",
      "(0.572)              \\\\\n",
      " gpa            &              &              &              & 0.004\n",
      "(0.015)              & -0.000\n",
      "(0.017)              \\\\\n",
      " importance     &              &              &              & -0.041\n",
      "(0.113)              & -0.042\n",
      "(0.112)              \\\\\n",
      " expected\\_grade &              &              &              &              & 0.027\n",
      "(0.033)              \\\\\n",
      " knowledge      &              &              &              &              & -0.046\n",
      "(0.062)              \\\\\n",
      " Observations   & 145.0        & 145.0        & 145.0        & 145.0        & 145.0        \\\\\n",
      " R-squared      & N/A (Robust) & N/A (Robust) & N/A (Robust) & N/A (Robust) & N/A (Robust) \\\\\n",
      "\\hline\n",
      "\\end{tabular}\n"
     ]
    }
   ],
   "source": [
    "print(create_regression_table(fifth_reg, \"exam_date\", [\"treated\"], progression))"
   ]
  },
  {
   "cell_type": "code",
   "execution_count": 78,
   "metadata": {},
   "outputs": [],
   "source": [
    "rand_inf5_coeff = randomization_inference(fifth_reg, treatment_col=\"treated\", y_col=\"exam_date\")"
   ]
  },
  {
   "cell_type": "code",
   "execution_count": 79,
   "metadata": {},
   "outputs": [
    {
     "data": {
      "text/plain": [
       "(-0.10621816348880939, 0.11056264063823683)"
      ]
     },
     "execution_count": 79,
     "metadata": {},
     "output_type": "execute_result"
    }
   ],
   "source": [
    "(rand_inf5_coeff[0],rand_inf5_coeff[1])"
   ]
  }
 ],
 "metadata": {
  "kernelspec": {
   "display_name": "base",
   "language": "python",
   "name": "python3"
  },
  "language_info": {
   "codemirror_mode": {
    "name": "ipython",
    "version": 3
   },
   "file_extension": ".py",
   "mimetype": "text/x-python",
   "name": "python",
   "nbconvert_exporter": "python",
   "pygments_lexer": "ipython3",
   "version": "3.11.4"
  }
 },
 "nbformat": 4,
 "nbformat_minor": 2
}
