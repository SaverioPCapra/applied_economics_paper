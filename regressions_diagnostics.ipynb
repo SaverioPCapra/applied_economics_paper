{
 "cells": [
  {
   "cell_type": "code",
   "execution_count": 17,
   "metadata": {},
   "outputs": [],
   "source": [
    "import pandas as pd\n",
    "import numpy as np\n",
    "import statsmodels.api as sm\n",
    "\n",
    "from functions import *"
   ]
  },
  {
   "cell_type": "code",
   "execution_count": 18,
   "metadata": {},
   "outputs": [],
   "source": [
    "X = pd.read_csv(\"indep_x.csv\", index_col = 0)"
   ]
  },
  {
   "cell_type": "code",
   "execution_count": 19,
   "metadata": {},
   "outputs": [
    {
     "name": "stderr",
     "output_type": "stream",
     "text": [
      "c:\\Users\\sav24\\Documents\\GitHub\\applied_economics_paper\\functions.py:167: RuntimeWarning: Precision loss occurred in moment calculation due to catastrophic cancellation. This occurs when the data are nearly identical. Results may be unreliable.\n",
      "  t_stat, p_value = stats.ttest_ind(treatment_group, control_group, equal_var=False)  # Welch's t-test\n"
     ]
    },
    {
     "data": {
      "text/html": [
       "<div>\n",
       "<style scoped>\n",
       "    .dataframe tbody tr th:only-of-type {\n",
       "        vertical-align: middle;\n",
       "    }\n",
       "\n",
       "    .dataframe tbody tr th {\n",
       "        vertical-align: top;\n",
       "    }\n",
       "\n",
       "    .dataframe thead th {\n",
       "        text-align: right;\n",
       "    }\n",
       "</style>\n",
       "<table border=\"1\" class=\"dataframe\">\n",
       "  <thead>\n",
       "    <tr style=\"text-align: right;\">\n",
       "      <th></th>\n",
       "      <th>Covariate</th>\n",
       "      <th>Test</th>\n",
       "      <th>p-value</th>\n",
       "      <th>Significant</th>\n",
       "      <th>Difference</th>\n",
       "      <th>Standardized Difference</th>\n",
       "    </tr>\n",
       "  </thead>\n",
       "  <tbody>\n",
       "    <tr>\n",
       "      <th>0</th>\n",
       "      <td>age</td>\n",
       "      <td>Welch's t-test</td>\n",
       "      <td>0.410959</td>\n",
       "      <td>False</td>\n",
       "      <td>-0.159262</td>\n",
       "      <td>-0.133256</td>\n",
       "    </tr>\n",
       "    <tr>\n",
       "      <th>1</th>\n",
       "      <td>gender</td>\n",
       "      <td>Welch's t-test</td>\n",
       "      <td>0.570504</td>\n",
       "      <td>False</td>\n",
       "      <td>-0.046138</td>\n",
       "      <td>-0.091930</td>\n",
       "    </tr>\n",
       "    <tr>\n",
       "      <th>2</th>\n",
       "      <td>scholarship</td>\n",
       "      <td>Welch's t-test</td>\n",
       "      <td>0.340511</td>\n",
       "      <td>False</td>\n",
       "      <td>0.040157</td>\n",
       "      <td>0.154775</td>\n",
       "    </tr>\n",
       "    <tr>\n",
       "      <th>3</th>\n",
       "      <td>1st_year</td>\n",
       "      <td>Welch's t-test</td>\n",
       "      <td>0.052406</td>\n",
       "      <td>False</td>\n",
       "      <td>0.077580</td>\n",
       "      <td>0.316336</td>\n",
       "    </tr>\n",
       "    <tr>\n",
       "      <th>4</th>\n",
       "      <td>gpa</td>\n",
       "      <td>Welch's t-test</td>\n",
       "      <td>0.014175</td>\n",
       "      <td>True</td>\n",
       "      <td>1.207450</td>\n",
       "      <td>0.401159</td>\n",
       "    </tr>\n",
       "    <tr>\n",
       "      <th>5</th>\n",
       "      <td>1st_time</td>\n",
       "      <td>Welch's t-test</td>\n",
       "      <td>0.083237</td>\n",
       "      <td>False</td>\n",
       "      <td>0.038961</td>\n",
       "      <td>0.282892</td>\n",
       "    </tr>\n",
       "    <tr>\n",
       "      <th>6</th>\n",
       "      <td>taste</td>\n",
       "      <td>Welch's t-test</td>\n",
       "      <td>0.019981</td>\n",
       "      <td>True</td>\n",
       "      <td>0.239747</td>\n",
       "      <td>0.380138</td>\n",
       "    </tr>\n",
       "    <tr>\n",
       "      <th>7</th>\n",
       "      <td>importance</td>\n",
       "      <td>Welch's t-test</td>\n",
       "      <td>0.090261</td>\n",
       "      <td>False</td>\n",
       "      <td>0.182160</td>\n",
       "      <td>0.275559</td>\n",
       "    </tr>\n",
       "    <tr>\n",
       "      <th>8</th>\n",
       "      <td>expected_grade</td>\n",
       "      <td>Welch's t-test</td>\n",
       "      <td>0.200697</td>\n",
       "      <td>False</td>\n",
       "      <td>0.534689</td>\n",
       "      <td>0.207866</td>\n",
       "    </tr>\n",
       "    <tr>\n",
       "      <th>9</th>\n",
       "      <td>knowledge</td>\n",
       "      <td>Welch's t-test</td>\n",
       "      <td>0.269851</td>\n",
       "      <td>False</td>\n",
       "      <td>0.082365</td>\n",
       "      <td>0.179123</td>\n",
       "    </tr>\n",
       "  </tbody>\n",
       "</table>\n",
       "</div>"
      ],
      "text/plain": [
       "        Covariate            Test   p-value  Significant  Difference  \\\n",
       "0             age  Welch's t-test  0.410959        False   -0.159262   \n",
       "1          gender  Welch's t-test  0.570504        False   -0.046138   \n",
       "2     scholarship  Welch's t-test  0.340511        False    0.040157   \n",
       "3        1st_year  Welch's t-test  0.052406        False    0.077580   \n",
       "4             gpa  Welch's t-test  0.014175         True    1.207450   \n",
       "5        1st_time  Welch's t-test  0.083237        False    0.038961   \n",
       "6           taste  Welch's t-test  0.019981         True    0.239747   \n",
       "7      importance  Welch's t-test  0.090261        False    0.182160   \n",
       "8  expected_grade  Welch's t-test  0.200697        False    0.534689   \n",
       "9       knowledge  Welch's t-test  0.269851        False    0.082365   \n",
       "\n",
       "   Standardized Difference  \n",
       "0                -0.133256  \n",
       "1                -0.091930  \n",
       "2                 0.154775  \n",
       "3                 0.316336  \n",
       "4                 0.401159  \n",
       "5                 0.282892  \n",
       "6                 0.380138  \n",
       "7                 0.275559  \n",
       "8                 0.207866  \n",
       "9                 0.179123  "
      ]
     },
     "execution_count": 19,
     "metadata": {},
     "output_type": "execute_result"
    }
   ],
   "source": [
    "check_balance(X, \"treated\", X.drop([\"treated\"], axis = 1).columns)"
   ]
  },
  {
   "cell_type": "code",
   "execution_count": 20,
   "metadata": {},
   "outputs": [],
   "source": [
    "balance_data = X.copy() #i'm making a copy of the dataset"
   ]
  },
  {
   "cell_type": "code",
   "execution_count": 21,
   "metadata": {},
   "outputs": [],
   "source": [
    "X_notreated = X.copy()\n",
    "X_notreated = X_notreated.drop([\"treated\"], axis = 1)"
   ]
  },
  {
   "cell_type": "code",
   "execution_count": 22,
   "metadata": {},
   "outputs": [],
   "source": [
    "results = [] #initialize an empty list in wich the result for each variable will be stored"
   ]
  },
  {
   "cell_type": "code",
   "execution_count": 23,
   "metadata": {},
   "outputs": [],
   "source": [
    "# We run a regression for each variable: Variable ~ Treatment\n",
    "for col in X_notreated.columns:\n",
    "    y = balance_data[col]\n",
    "    X = sm.add_constant(balance_data[\"treated\"])  # adds intercept\n",
    "    model = sm.OLS(y, X).fit(cov_type=\"HC3\")\n",
    "    fval = model.f_pvalue #F-statistic\n",
    "    results.append((col, fval))"
   ]
  },
  {
   "cell_type": "code",
   "execution_count": 24,
   "metadata": {},
   "outputs": [],
   "source": [
    "balance_test_df = pd.DataFrame(results, columns=[\"Variable\", \"F-value\"])\n",
    "balance_test_df.sort_values(\"F-value\", ascending=False, inplace=True)"
   ]
  },
  {
   "cell_type": "code",
   "execution_count": 25,
   "metadata": {},
   "outputs": [
    {
     "data": {
      "text/html": [
       "<div>\n",
       "<style scoped>\n",
       "    .dataframe tbody tr th:only-of-type {\n",
       "        vertical-align: middle;\n",
       "    }\n",
       "\n",
       "    .dataframe tbody tr th {\n",
       "        vertical-align: top;\n",
       "    }\n",
       "\n",
       "    .dataframe thead th {\n",
       "        text-align: right;\n",
       "    }\n",
       "</style>\n",
       "<table border=\"1\" class=\"dataframe\">\n",
       "  <thead>\n",
       "    <tr style=\"text-align: right;\">\n",
       "      <th></th>\n",
       "      <th>Variable</th>\n",
       "      <th>F-value</th>\n",
       "    </tr>\n",
       "  </thead>\n",
       "  <tbody>\n",
       "    <tr>\n",
       "      <th>1</th>\n",
       "      <td>gender</td>\n",
       "      <td>0.573031</td>\n",
       "    </tr>\n",
       "    <tr>\n",
       "      <th>0</th>\n",
       "      <td>age</td>\n",
       "      <td>0.413999</td>\n",
       "    </tr>\n",
       "    <tr>\n",
       "      <th>2</th>\n",
       "      <td>scholarship</td>\n",
       "      <td>0.343570</td>\n",
       "    </tr>\n",
       "    <tr>\n",
       "      <th>9</th>\n",
       "      <td>knowledge</td>\n",
       "      <td>0.272979</td>\n",
       "    </tr>\n",
       "    <tr>\n",
       "      <th>8</th>\n",
       "      <td>expected_grade</td>\n",
       "      <td>0.203635</td>\n",
       "    </tr>\n",
       "    <tr>\n",
       "      <th>7</th>\n",
       "      <td>importance</td>\n",
       "      <td>0.092290</td>\n",
       "    </tr>\n",
       "    <tr>\n",
       "      <th>5</th>\n",
       "      <td>1st_time</td>\n",
       "      <td>0.083218</td>\n",
       "    </tr>\n",
       "    <tr>\n",
       "      <th>3</th>\n",
       "      <td>1st_year</td>\n",
       "      <td>0.053363</td>\n",
       "    </tr>\n",
       "    <tr>\n",
       "      <th>6</th>\n",
       "      <td>taste</td>\n",
       "      <td>0.020761</td>\n",
       "    </tr>\n",
       "    <tr>\n",
       "      <th>4</th>\n",
       "      <td>gpa</td>\n",
       "      <td>0.014771</td>\n",
       "    </tr>\n",
       "  </tbody>\n",
       "</table>\n",
       "</div>"
      ],
      "text/plain": [
       "         Variable   F-value\n",
       "1          gender  0.573031\n",
       "0             age  0.413999\n",
       "2     scholarship  0.343570\n",
       "9       knowledge  0.272979\n",
       "8  expected_grade  0.203635\n",
       "7      importance  0.092290\n",
       "5        1st_time  0.083218\n",
       "3        1st_year  0.053363\n",
       "6           taste  0.020761\n",
       "4             gpa  0.014771"
      ]
     },
     "execution_count": 25,
     "metadata": {},
     "output_type": "execute_result"
    }
   ],
   "source": [
    "balance_test_df"
   ]
  },
  {
   "cell_type": "code",
   "execution_count": 14,
   "metadata": {},
   "outputs": [
    {
     "name": "stdout",
     "output_type": "stream",
     "text": [
      "\\begin{tabular}{llr}\n",
      "\\toprule\n",
      "{} &        Variable &   F-value \\\\\n",
      "\\midrule\n",
      "1 &          gender &  0.573031 \\\\\n",
      "0 &             age &  0.413999 \\\\\n",
      "2 &     scholarship &  0.343570 \\\\\n",
      "9 &       knowledge &  0.272979 \\\\\n",
      "8 &  expected_grade &  0.203635 \\\\\n",
      "7 &      importance &  0.092290 \\\\\n",
      "5 &        1st_time &  0.083218 \\\\\n",
      "3 &        1st_year &  0.053363 \\\\\n",
      "6 &           taste &  0.020761 \\\\\n",
      "4 &             gpa &  0.014771 \\\\\n",
      "\\bottomrule\n",
      "\\end{tabular}\n",
      "\n"
     ]
    },
    {
     "name": "stderr",
     "output_type": "stream",
     "text": [
      "C:\\Users\\sav24\\AppData\\Local\\Temp\\ipykernel_10324\\1504318975.py:1: FutureWarning: In future versions `DataFrame.to_latex` is expected to utilise the base implementation of `Styler.to_latex` for formatting and rendering. The arguments signature may therefore change. It is recommended instead to use `DataFrame.style.to_latex` which also contains additional functionality.\n",
      "  print(balance_test_df.to_latex(\n"
     ]
    }
   ],
   "source": [
    "print(balance_test_df.to_latex(\n",
    "        index=True,  \n",
    "        escape=False, \n",
    "    ))"
   ]
  },
  {
   "cell_type": "code",
   "execution_count": 32,
   "metadata": {},
   "outputs": [
    {
     "name": "stdout",
     "output_type": "stream",
     "text": [
      "(24.973684210526315, 23.766233766233768)\n",
      "(3.460526315789474, 3.220779220779221)\n",
      "(0.9736842105263158, 0.8961038961038961)\n"
     ]
    }
   ],
   "source": [
    "print((balance_data[balance_data[\"treated\"]==1][\"gpa\"].mean(), balance_data[balance_data[\"treated\"]==0][\"gpa\"].mean()))\n",
    "print((balance_data[balance_data[\"treated\"]==1][\"taste\"].mean(), balance_data[balance_data[\"treated\"]==0][\"taste\"].mean()))\n",
    "print((balance_data[balance_data[\"treated\"]==1][\"1st_year\"].mean(), balance_data[balance_data[\"treated\"]==0][\"1st_year\"].mean()))"
   ]
  },
  {
   "cell_type": "code",
   "execution_count": 33,
   "metadata": {},
   "outputs": [],
   "source": [
    "results_nout = []"
   ]
  },
  {
   "cell_type": "code",
   "execution_count": 35,
   "metadata": {},
   "outputs": [],
   "source": [
    "# We run a regression for each variable: Variable ~ Treatment\n",
    "balance_data_nout = balance_data[balance_data[\"gpa\"] != 17].copy()\n",
    "\n",
    "for col in X_notreated.columns:\n",
    "    y = balance_data_nout[col]\n",
    "    X = sm.add_constant(balance_data_nout[\"treated\"])  # adds intercept\n",
    "    model = sm.OLS(y, X).fit(cov_type=\"HC3\")\n",
    "    fval = model.f_pvalue #F-statistic\n",
    "    results_nout.append((col, fval))"
   ]
  },
  {
   "cell_type": "code",
   "execution_count": 36,
   "metadata": {},
   "outputs": [],
   "source": [
    "balance_test_df_nout = pd.DataFrame(results_nout, columns=[\"Variable\", \"F-value\"])\n",
    "balance_test_df_nout.sort_values(\"F-value\", ascending=False, inplace=True)"
   ]
  },
  {
   "cell_type": "code",
   "execution_count": 38,
   "metadata": {},
   "outputs": [
    {
     "data": {
      "text/plain": [
       "(145, 11)"
      ]
     },
     "execution_count": 38,
     "metadata": {},
     "output_type": "execute_result"
    }
   ],
   "source": [
    "balance_data_nout.shape"
   ]
  },
  {
   "cell_type": "code",
   "execution_count": 37,
   "metadata": {},
   "outputs": [
    {
     "name": "stdout",
     "output_type": "stream",
     "text": [
      "\\begin{tabular}{llr}\n",
      "\\toprule\n",
      "{} &        Variable &   F-value \\\\\n",
      "\\midrule\n",
      "1 &          gender &  0.700669 \\\\\n",
      "0 &             age &  0.669296 \\\\\n",
      "2 &     scholarship &  0.413972 \\\\\n",
      "9 &       knowledge &  0.333413 \\\\\n",
      "8 &  expected_grade &  0.167890 \\\\\n",
      "4 &             gpa &  0.142701 \\\\\n",
      "7 &      importance &  0.108964 \\\\\n",
      "5 &        1st_time &  0.083114 \\\\\n",
      "3 &        1st_year &  0.075599 \\\\\n",
      "6 &           taste &  0.019316 \\\\\n",
      "\\bottomrule\n",
      "\\end{tabular}\n",
      "\n"
     ]
    },
    {
     "name": "stderr",
     "output_type": "stream",
     "text": [
      "C:\\Users\\sav24\\AppData\\Local\\Temp\\ipykernel_10324\\2956204118.py:1: FutureWarning: In future versions `DataFrame.to_latex` is expected to utilise the base implementation of `Styler.to_latex` for formatting and rendering. The arguments signature may therefore change. It is recommended instead to use `DataFrame.style.to_latex` which also contains additional functionality.\n",
      "  print(balance_test_df_nout.to_latex(\n"
     ]
    }
   ],
   "source": [
    "print(balance_test_df_nout.to_latex(\n",
    "        index=True,  \n",
    "        escape=False, \n",
    "    ))"
   ]
  }
 ],
 "metadata": {
  "kernelspec": {
   "display_name": "base",
   "language": "python",
   "name": "python3"
  },
  "language_info": {
   "codemirror_mode": {
    "name": "ipython",
    "version": 3
   },
   "file_extension": ".py",
   "mimetype": "text/x-python",
   "name": "python",
   "nbconvert_exporter": "python",
   "pygments_lexer": "ipython3",
   "version": "3.11.4"
  }
 },
 "nbformat": 4,
 "nbformat_minor": 2
}
