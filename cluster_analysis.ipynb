{
 "cells": [
  {
   "cell_type": "code",
   "execution_count": 636,
   "metadata": {},
   "outputs": [],
   "source": [
    "from sklearn.cluster import DBSCAN\n",
    "from sklearn.neighbors import NearestNeighbors \n",
    "from sklearn.preprocessing import StandardScaler\n",
    "from sklearn.decomposition import PCA\n",
    "\n",
    "import pandas as pd\n",
    "import numpy as np\n",
    "\n",
    "from pyclustering.cluster.kmeans import kmeans, kmeans_visualizer\n",
    "from pyclustering.cluster.center_initializer import kmeans_plusplus_initializer\n",
    "from pyclustering.utils.metric import distance_metric, type_metric\n",
    "\n",
    "\n",
    "import matplotlib.pyplot as plt\n",
    "import seaborn as sns\n",
    "\n",
    "import statsmodels.api as sm\n",
    "\n",
    "from functions import *\n",
    "import random\n",
    "\n",
    "from sklearn.metrics import pairwise_distances\n",
    "from pyclustering.cluster import kmedoids, silhouette\n"
   ]
  },
  {
   "cell_type": "markdown",
   "metadata": {},
   "source": [
    "Reference: https://medium.com/@blazetamareborn/practicing-clustering-techniques-on-survey-dataset-f7d7a322e6ff"
   ]
  },
  {
   "cell_type": "code",
   "execution_count": 637,
   "metadata": {},
   "outputs": [],
   "source": [
    "X = pd.read_csv(\"indep_x.csv\", index_col = 0)\n",
    "y = pd.read_csv(\"dep_y.csv\", index_col = 0)"
   ]
  },
  {
   "cell_type": "code",
   "execution_count": 638,
   "metadata": {},
   "outputs": [],
   "source": [
    "df = pd.concat([X,y], axis = 1)"
   ]
  },
  {
   "cell_type": "code",
   "execution_count": 639,
   "metadata": {},
   "outputs": [],
   "source": [
    "# Here we assume that if someone has no gpa it's because they didn't pass any exam, \n",
    "# so we use 17 as placeholder\n",
    "\n",
    "X.loc[X[\"gpa\"] == 31, \"gpa\"] = 17\n",
    "df.loc[df[\"gpa\"] == 31, \"gpa\"] = 17\n",
    "\n",
    "#X = X[X[\"gpa\"]!=31]\n",
    "# df = df[df[\"gpa\"]!=31]"
   ]
  },
  {
   "cell_type": "code",
   "execution_count": 640,
   "metadata": {},
   "outputs": [],
   "source": [
    "scaler = StandardScaler()\n",
    "s_data_df = scaler.fit_transform(df)\n",
    "s_data_X = scaler.fit_transform(X)"
   ]
  },
  {
   "cell_type": "markdown",
   "metadata": {},
   "source": [
    "### Removal of Outliers using DBSCAN"
   ]
  },
  {
   "cell_type": "code",
   "execution_count": 641,
   "metadata": {},
   "outputs": [],
   "source": [
    "dbscan = DBSCAN(eps=3.5, min_samples=20)\n",
    "\n",
    "labels = dbscan.fit_predict(s_data_X)\n",
    "outlier_mask = labels == -1"
   ]
  },
  {
   "cell_type": "code",
   "execution_count": 377,
   "metadata": {},
   "outputs": [],
   "source": [
    "x_data_nout = s_data_X[~outlier_mask]\n",
    "all_data_nout = s_data_df[~outlier_mask]"
   ]
  },
  {
   "cell_type": "code",
   "execution_count": 378,
   "metadata": {},
   "outputs": [],
   "source": [
    "x_nout = X[~outlier_mask]\n",
    "df_nout = df[~outlier_mask]"
   ]
  },
  {
   "cell_type": "code",
   "execution_count": 379,
   "metadata": {},
   "outputs": [
    {
     "data": {
      "text/plain": [
       "0.8431372549019608"
      ]
     },
     "execution_count": 379,
     "metadata": {},
     "output_type": "execute_result"
    }
   ],
   "source": [
    "df_nout.shape[0]/df.shape[0]"
   ]
  },
  {
   "cell_type": "code",
   "execution_count": 381,
   "metadata": {},
   "outputs": [
    {
     "data": {
      "text/plain": [
       "(129, 16)"
      ]
     },
     "execution_count": 381,
     "metadata": {},
     "output_type": "execute_result"
    }
   ],
   "source": [
    "df_nout.shape"
   ]
  },
  {
   "cell_type": "code",
   "execution_count": 380,
   "metadata": {},
   "outputs": [],
   "source": [
    "df_nout.to_csv(\"data_nout.csv\")"
   ]
  },
  {
   "cell_type": "markdown",
   "metadata": {},
   "source": [
    "### PCA Processing"
   ]
  },
  {
   "cell_type": "code",
   "execution_count": 642,
   "metadata": {},
   "outputs": [],
   "source": [
    "# data_nout = pd.read_csv(\"data_nout.csv\", index_col = 0)"
   ]
  },
  {
   "cell_type": "code",
   "execution_count": 643,
   "metadata": {},
   "outputs": [],
   "source": [
    "# x_nout = data_nout[['age', 'gender', 'scholarship', '1st_year', 'gpa', '1st_time', 'taste',\n",
    "#                       'importance', 'expected_grade', 'knowledge']].copy()\n",
    "# y_nout = data_nout[['grade_goal','confidence', 'anxiety', 'time', 'exam_date']].copy()\n",
    "\n",
    "# treatment = data_nout[\"treated\"].copy()\n",
    "\n",
    "allX_notreatment = X.drop([\"treated\"], axis = 1)"
   ]
  },
  {
   "cell_type": "code",
   "execution_count": 644,
   "metadata": {},
   "outputs": [],
   "source": [
    "s_x_nout = scaler.fit_transform(allX_notreatment)"
   ]
  },
  {
   "cell_type": "code",
   "execution_count": 645,
   "metadata": {},
   "outputs": [],
   "source": [
    "pca = PCA(n_components = 2, random_state=1)\n",
    "x_pca = pca.fit_transform(s_x_nout)"
   ]
  },
  {
   "cell_type": "code",
   "execution_count": 646,
   "metadata": {},
   "outputs": [
    {
     "data": {
      "text/plain": [
       "0.3283050247711032"
      ]
     },
     "execution_count": 646,
     "metadata": {},
     "output_type": "execute_result"
    }
   ],
   "source": [
    "pca.explained_variance_ratio_.sum()"
   ]
  },
  {
   "cell_type": "code",
   "execution_count": 647,
   "metadata": {},
   "outputs": [
    {
     "data": {
      "text/plain": [
       "(153, 2)"
      ]
     },
     "execution_count": 647,
     "metadata": {},
     "output_type": "execute_result"
    }
   ],
   "source": [
    "x_pca.shape"
   ]
  },
  {
   "cell_type": "code",
   "execution_count": 648,
   "metadata": {},
   "outputs": [
    {
     "name": "stdout",
     "output_type": "stream",
     "text": [
      "Silhouette Score: 0.555353457470413\n"
     ]
    }
   ],
   "source": [
    "# Manhattan distance matrix\n",
    "distance_matrix = pairwise_distances(x_pca, metric=\"euclidean\")\n",
    "\n",
    "# K-Medoids clustering\n",
    "k = 3 # example number of clusters\n",
    "num_data_points = len(x_pca)\n",
    "\n",
    "initial_medoids = random.sample(range(num_data_points), k)\n",
    "\n",
    "kmedoids_instance = kmedoids.kmedoids(distance_matrix, initial_medoids, data_type='distance_matrix')\n",
    "kmedoids_instance.process()\n",
    "clusters = kmedoids_instance.get_clusters()\n",
    "\n",
    "silhouette_instance = silhouette.silhouette(x_pca, clusters)\n",
    "silhouette_score = silhouette_instance.process().get_score()\n",
    "\n",
    "print(\"Silhouette Score:\", np.mean(silhouette_score))"
   ]
  },
  {
   "cell_type": "code",
   "execution_count": 649,
   "metadata": {},
   "outputs": [],
   "source": [
    "labels = np.zeros(len(x_pca), dtype=int)\n",
    "for i, cluster in enumerate(clusters):\n",
    "    labels[cluster] = i"
   ]
  },
  {
   "cell_type": "code",
   "execution_count": 650,
   "metadata": {},
   "outputs": [],
   "source": [
    "x_pca_df = pd.DataFrame(x_pca)"
   ]
  },
  {
   "cell_type": "code",
   "execution_count": 651,
   "metadata": {},
   "outputs": [
    {
     "data": {
      "image/png": "[encoded data removed]",
      "text/plain": [
       "<Figure size 640x480 with 1 Axes>"
      ]
     },
     "metadata": {},
     "output_type": "display_data"
    }
   ],
   "source": [
    "plt.scatter(x_pca[:, 0], x_pca[:, 1], c=labels)\n",
    "plt.xlabel(\"Principal Component 1\")\n",
    "plt.ylabel(\"Principal Component 2\")\n",
    "plt.title(\"K-Medoids Clustering Results\")\n",
    "plt.show()"
   ]
  },
  {
   "cell_type": "code",
   "execution_count": 652,
   "metadata": {},
   "outputs": [],
   "source": [
    "labels = pd.DataFrame(labels)"
   ]
  },
  {
   "cell_type": "code",
   "execution_count": 653,
   "metadata": {},
   "outputs": [],
   "source": [
    "x_nout_updated = allX_notreatment.copy()"
   ]
  },
  {
   "cell_type": "code",
   "execution_count": 654,
   "metadata": {},
   "outputs": [],
   "source": [
    "labels.index = allX_notreatment.index\n",
    "labels.columns = [\"cluster\"]"
   ]
  },
  {
   "cell_type": "code",
   "execution_count": 655,
   "metadata": {},
   "outputs": [],
   "source": [
    "x_nout_updated = pd.concat([x_nout_updated, labels], axis = 1)"
   ]
  },
  {
   "cell_type": "code",
   "execution_count": 656,
   "metadata": {},
   "outputs": [],
   "source": [
    "x_nout_updated.to_csv(\"x_nout_cluster.csv\")"
   ]
  },
  {
   "cell_type": "code",
   "execution_count": 657,
   "metadata": {},
   "outputs": [
    {
     "name": "stdout",
     "output_type": "stream",
     "text": [
      "            age  gender  scholarship  1st_year     gpa  1st_time  taste  \\\n",
      "cluster                                                                   \n",
      "0       21.4400  0.2400       0.0000    0.6000 21.7200    0.9200 2.9600   \n",
      "1       19.2958  0.7746       0.1549    1.0000 25.4366    1.0000 3.1127   \n",
      "2       19.7544  0.1930       0.0000    1.0000 24.1930    0.9825 3.7895   \n",
      "\n",
      "         importance  expected_grade  knowledge  cluster  \n",
      "cluster                                                  \n",
      "0            3.5200         21.0400     0.1600   0.0000  \n",
      "1            3.7746         22.5634     0.2535   1.0000  \n",
      "2            4.3158         21.4561     0.4211   2.0000  \n"
     ]
    }
   ],
   "source": [
    "print(x_nout_updated.groupby(\"cluster\")[x_nout_updated.columns].mean())"
   ]
  },
  {
   "cell_type": "code",
   "execution_count": 658,
   "metadata": {},
   "outputs": [
    {
     "data": {
      "text/plain": [
       "(153, 11)"
      ]
     },
     "execution_count": 658,
     "metadata": {},
     "output_type": "execute_result"
    }
   ],
   "source": [
    "x_nout_updated.shape"
   ]
  },
  {
   "cell_type": "code",
   "execution_count": 659,
   "metadata": {},
   "outputs": [],
   "source": [
    "y_vars = pd.concat([y, x_nout_updated[\"cluster\"]], axis = 1)"
   ]
  },
  {
   "cell_type": "code",
   "execution_count": 661,
   "metadata": {},
   "outputs": [],
   "source": [
    "x_nout_updated = pd.concat([x_nout_updated, X[\"treated\"]], axis = 1)"
   ]
  },
  {
   "cell_type": "code",
   "execution_count": 662,
   "metadata": {},
   "outputs": [],
   "source": [
    "ate_results = {}\n",
    "p_values = {}\n",
    "\n",
    "for cluster_id in x_nout_updated['cluster'].unique():\n",
    "    ate_results[cluster_id] = {}\n",
    "    p_values[cluster_id] = {}\n",
    "    for var in y_vars.columns[:-1]:\n",
    "        cluster_data = x_nout_updated[x_nout_updated['cluster'] == cluster_id].drop([\"cluster\"], axis = 1)\n",
    "        X = sm.add_constant(cluster_data) \n",
    "        y_reg = y_vars[y_vars['cluster'] == cluster_id].copy()\n",
    "        y_reg = y_reg[var] \n",
    "        model = sm.RLM(y_reg, X, M = sm.robust.norms.HuberT()).fit()\n",
    "        ate_results[cluster_id][var] = model.params['treated']\n",
    "        p_values[cluster_id][var] = model.pvalues['treated']"
   ]
  },
  {
   "cell_type": "code",
   "execution_count": 663,
   "metadata": {},
   "outputs": [
    {
     "data": {
      "text/plain": [
       "(                 1       0       2\n",
       " grade_goal -2.2022 -2.6007 -0.2039\n",
       " confidence -0.1301 -0.2705  0.1103\n",
       " anxiety     0.2115 -0.1827  0.0304\n",
       " time        0.3166  0.8310  0.2983\n",
       " exam_date  -0.0000 -0.3116  0.0000,\n",
       "                 1      0      2\n",
       " grade_goal 0.0000 0.0306 0.8396\n",
       " confidence 0.4763 0.4253 0.6383\n",
       " anxiety    0.4706 0.5291 0.8972\n",
       " time       0.2614 0.2303 0.3094\n",
       " exam_date  0.7386 0.2886 0.9087)"
      ]
     },
     "execution_count": 663,
     "metadata": {},
     "output_type": "execute_result"
    }
   ],
   "source": [
    "pd.options.display.float_format = '{:.4f}'.format\n",
    "\n",
    "(pd.DataFrame(ate_results),pd.DataFrame(p_values))"
   ]
  },
  {
   "cell_type": "code",
   "execution_count": 664,
   "metadata": {},
   "outputs": [
    {
     "data": {
      "text/plain": [
       "1    71\n",
       "2    57\n",
       "0    25\n",
       "Name: cluster, dtype: int64"
      ]
     },
     "execution_count": 664,
     "metadata": {},
     "output_type": "execute_result"
    }
   ],
   "source": [
    "x_nout_updated[\"cluster\"].value_counts()"
   ]
  }
 ],
 "metadata": {
  "kernelspec": {
   "display_name": "base",
   "language": "python",
   "name": "python3"
  },
  "language_info": {
   "codemirror_mode": {
    "name": "ipython",
    "version": 3
   },
   "file_extension": ".py",
   "mimetype": "text/x-python",
   "name": "python",
   "nbconvert_exporter": "python",
   "pygments_lexer": "ipython3",
   "version": "3.11.4"
  }
 },
 "nbformat": 4,
 "nbformat_minor": 2
}
